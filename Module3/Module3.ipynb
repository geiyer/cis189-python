{
 "cells": [
  {
   "source": [
    "# Introduction\n",
    "* Assignments graded, please check My Grades section\n",
    "* Review Rubrick\n",
    "* Docstring\n",
    "\n",
    "        \"\"\"\n",
    "\n",
    "        Program: cast_to_integer.py\n",
    "\n",
    "        Author: Your Name\n",
    "\n",
    "        Last date modified: MM/DD/YYYY\n",
    "\n",
    "        The purpose of this program is to accept any input, \n",
    "        convert to a integer type and output the integer. \n",
    "\n",
    "        \"\"\"\n",
    "## Environment Model\n",
    "![Environment Model] (./environment-model.png)\n",
    "### Developement\n",
    "    * Used primarily by developers\n",
    "    * Deploy the code on a server\n",
    "### Quality Assurance\n",
    "    * Used primarily by QA Team \n",
    "    * For Testing the functions\n",
    "### Beta Testing\n",
    "    * Used by internal or external testers\n",
    "    * Test real world like transactions\n",
    "### Production \n",
    "    * Live environment used for actual transactions\n",
    "    * What you and I see when going to Amazon or Facebook\n",
    "    \n"
   ],
   "cell_type": "markdown",
   "metadata": {}
  },
  {
   "source": [
    "---\n",
    "# Control Structures\n",
    "## Flow of Control\n",
    "* Order in which the program's code execute.\n",
    "* 3 Basic types\n",
    "    * Sequential\n",
    "        * Top to bottom\n",
    "        * One line after another\n",
    "    * Selection\n",
    "        * Used for decisions\n",
    "            * if\n",
    "            * if - elif - else\n",
    "    * Repetition\n",
    "        * Used for looping\n",
    "            * for\n",
    "            * while\n",
    "## IF Statement\n",
    "* Used when some conditions are holds True\n",
    "* Execute block of condition use if - elif - else statements\n",
    "---\n",
    "\n",
    "\n"
   ],
   "cell_type": "markdown",
   "metadata": {}
  },
  {
   "cell_type": "code",
   "execution_count": 5,
   "metadata": {},
   "outputs": [
    {
     "output_type": "stream",
     "name": "stdout",
     "text": [
      "It is not a leap year\n"
     ]
    }
   ],
   "source": [
    "year = 2002\n",
    "if(year % 4 == 0):\n",
    "    print ('It is a leap year')\n",
    "else:\n",
    "    print('It is not a leap year')"
   ]
  },
  {
   "source": [
    "age = 13\n",
    "if(age < 14):\n",
    "    print ('You have to be atleast 14 years to get a driver license')\n",
    "    print(5+5)\n",
    "elif(age >= 14 and age < 17):\n",
    "     print('You can get a learners license')\n",
    "else:\n",
    "     print('You can get a full driver license')       "
   ],
   "cell_type": "code",
   "metadata": {},
   "execution_count": 9,
   "outputs": [
    {
     "output_type": "stream",
     "name": "stdout",
     "text": [
      "You have to be atleast 14 years to get a driver license\n10\n"
     ]
    }
   ]
  },
  {
   "source": [
    "---\n",
    "## Relational/Comparison Operators\n",
    "Compare values on either sides. \n",
    "* == Equal to\n",
    "* != Not equal to operator\n",
    "*  >  Greater than \n",
    "* < Less than\n",
    "* >= Greater than Equal\n",
    "* <= Less than Equal\n",
    "---\n",
    "## Logical Operators\n",
    "* and : Logical and\n",
    "* or \n",
    "* not\n",
    "---"
   ],
   "cell_type": "markdown",
   "metadata": {}
  },
  {
   "cell_type": "code",
   "execution_count": 10,
   "id": "rational-circle",
   "metadata": {},
   "outputs": [
    {
     "output_type": "stream",
     "name": "stdout",
     "text": [
      "Comparison Operators\n--------------------\nTrue\nTrue\nTrue\nTrue\nTrue\nTrue\nTrue\nTrue\n"
     ]
    }
   ],
   "source": [
    "print('Comparison Operators')\n",
    "print('-'*20)\n",
    "print(1 == 1) # True\n",
    "print(1 != 2) # True\n",
    "print(2 > 1) # True\n",
    "print(1 < 2) # True\n",
    "print(2 >= 1) # True\n",
    "print(2 >= 2) # True\n",
    "print(1 <= 2) #True\n",
    "print(1 <= 1) # True\n",
    "\n"
   ]
  },
  {
   "cell_type": "code",
   "execution_count": 11,
   "metadata": {},
   "outputs": [
    {
     "output_type": "stream",
     "name": "stdout",
     "text": [
      "True\nTrue\nFalse\n"
     ]
    }
   ],
   "source": [
    "x = True\n",
    "y = True\n",
    "z = False\n",
    "print(x and y) # True\n",
    "print(x or z) # True\n",
    "print(not x) # False\n"
   ]
  },
  {
   "source": [
    "## Classwork\n",
    "## Check a number is in Range\n",
    "* e.g. x is between 20 & 30 \n"
   ],
   "cell_type": "markdown",
   "metadata": {}
  },
  {
   "cell_type": "code",
   "execution_count": 17,
   "metadata": {},
   "outputs": [
    {
     "output_type": "stream",
     "name": "stdout",
     "text": [
      "not in range\n"
     ]
    }
   ],
   "source": [
    "y = 19\n",
    "if(y >= 20 and y <= 30):\n",
    "    print('y is between 20 and 30')\n",
    "else:\n",
    "    print('not in range')    "
   ]
  },
  {
   "cell_type": "code",
   "execution_count": 24,
   "metadata": {},
   "outputs": [
    {
     "output_type": "stream",
     "name": "stdout",
     "text": [
      "x is between 20 & 30\n"
     ]
    }
   ],
   "source": [
    "x = 25\n",
    "if(20 <= x <= 30):\n",
    "    print('x is between 20 & 30')\n",
    "else:\n",
    "    print('x is not in the range')    "
   ]
  },
  {
   "cell_type": "code",
   "execution_count": 27,
   "metadata": {},
   "outputs": [
    {
     "output_type": "stream",
     "name": "stdout",
     "text": [
      "x is not in the range\n"
     ]
    }
   ],
   "source": [
    "x = 19\n",
    "if(x in range(20, 30)):\n",
    "    print('x is between 20 & 30')\n",
    "else:\n",
    "    print('x is not in the range')  "
   ]
  },
  {
   "source": [
    "---\n",
    "\n",
    "## Classwork (Group)\n",
    "\n",
    "GRADING CRITERIA: Based on percentage of points possible accumulated throughout the\n",
    "course. Points will be awarded for exams, quizzes, assignments, projects and participation.\n",
    "\n",
    "\n",
    "* A = 93-100% A- = 90-92% \n",
    "* B+ = 87-89% B = 83-86% B- = 80-82% \n",
    "* C+ = 77-79% C = 73-76% C- = 70-72% \n",
    "* D+ = 67-69% D = 63-66% D- = 60-62% \n",
    "* F = 0-59%\n",
    "\n",
    "### Problem Statement:\n",
    "\n",
    "The user enters the total points. The program calculates the percentage and returns the letter grade as per the instructions above. \n",
    "\n",
    "***Maximum points allowed in the course is 600. ***\n",
    "\n",
    "Input: \n",
    "* Prompt the user to enter the total points. \n",
    "\n",
    "Output:\n",
    "* Print the letter grade\n",
    "\n",
    "Example:\n",
    "    \n",
    "    Enter the total points earned : 550\n",
    "    \n",
    "    Your grade is : A-    "
   ],
   "cell_type": "markdown",
   "metadata": {}
  },
  {
   "source": [],
   "cell_type": "markdown",
   "metadata": {}
  }
 ],
 "metadata": {
  "kernelspec": {
   "display_name": "Python 3",
   "language": "python",
   "name": "python3"
  },
  "language_info": {
   "codemirror_mode": {
    "name": "ipython",
    "version": 3
   },
   "file_extension": ".py",
   "mimetype": "text/x-python",
   "name": "python",
   "nbconvert_exporter": "python",
   "pygments_lexer": "ipython3",
   "version": "3.9.1-final"
  }
 },
 "nbformat": 4,
 "nbformat_minor": 5
}