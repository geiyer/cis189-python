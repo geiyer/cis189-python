{
 "cells": [
  {
   "source": [
    "# Control Structures\n",
    "## Flow of Control\n",
    "* Order in which the program's code execute.\n",
    "* 3 Basic types\n",
    "    * Sequential\n",
    "        * Top to bottom\n",
    "        * One line after another\n",
    "    * Selection\n",
    "        * Used for decisions\n",
    "            * if\n",
    "            * if - elif - else\n",
    "    * Repetition\n",
    "        * Used for looping\n",
    "            * for\n",
    "            * while\n",
    "## Structure Theorem\n",
    "As the structure theorem (also called the Böhm-Jacopini theorem) states, if a problem can be solved efficiently with a program, it can be solved using these three structures, sequential, selection and repetiion. Some problems are intractable, meaning there is no efficient algorithm to solve them, thus the necessary distinction of \"if a problem can be solved efficiently.\" If that intrigues you, you can check out Complexity Theory, that is beyond the scope this course.\n",
    "\n",
    "\n",
    "\n",
    "\n"
   ],
   "cell_type": "markdown",
   "metadata": {}
  },
  {
   "source": [
    "## For Loops\n",
    "* Used for iterating over a sequence\n",
    "* Iterate over a range, loop, tuple, dictionary, set or a string\n",
    "* Repeat a fixed number of times\n",
    "\n",
    "\n",
    "![Loop] (./for-loop.png)\n",
    "\n",
    "## When to use For Loops?\n",
    "* You know the number of times you want to execute the loop\n",
    "* e.g:\n",
    "    * Add the values in a list\n",
    "    * Update list values\n",
    "    * Search a value in a list\n",
    "    "
   ],
   "cell_type": "markdown",
   "metadata": {}
  },
  {
   "cell_type": "code",
   "execution_count": null,
   "metadata": {},
   "outputs": [],
   "source": [
    "veggies = ['artichoke', 'cucumber', 'green beans']\n",
    "for v in veggies:\n",
    "    print(v)\n"
   ]
  },
  {
   "cell_type": "code",
   "execution_count": null,
   "metadata": {},
   "outputs": [],
   "source": [
    "s =\"Looping\"\n",
    "for g in s:\n",
    "    print(g)"
   ]
  },
  {
   "source": [
    "## Definite for loops\n",
    "* Uses `range()` function\n",
    "* "
   ],
   "cell_type": "markdown",
   "metadata": {}
  },
  {
   "cell_type": "code",
   "execution_count": null,
   "metadata": {},
   "outputs": [],
   "source": [
    "help(range)"
   ]
  },
  {
   "cell_type": "code",
   "execution_count": null,
   "metadata": {},
   "outputs": [],
   "source": [
    "for x in range(4):\n",
    "    print(x)"
   ]
  },
  {
   "cell_type": "code",
   "execution_count": null,
   "metadata": {},
   "outputs": [],
   "source": [
    "for y in range(2, 5):\n",
    "    print (y)"
   ]
  },
  {
   "cell_type": "code",
   "execution_count": null,
   "metadata": {},
   "outputs": [],
   "source": [
    "for countByFive in range(10, 51, 5):\n",
    "    print(countByFive)"
   ]
  },
  {
   "source": [
    "## While Loops\n",
    "* Executed while a condition is True\n",
    "> Note: Watch out for Infinite Loops\n",
    "* Ensure that the condition becomes false to stop the execution. \n"
   ],
   "cell_type": "markdown",
   "metadata": {}
  },
  {
   "cell_type": "code",
   "execution_count": null,
   "metadata": {},
   "outputs": [],
   "source": [
    "x = 0\n",
    "while x < 10 : #condition\n",
    "    print (x)     \n",
    "    x += 1"
   ]
  },
  {
   "cell_type": "code",
   "execution_count": null,
   "metadata": {},
   "outputs": [],
   "source": [
    "x = 10\n",
    "while x <= 50:\n",
    "    print(x)\n",
    "    x = x + 5"
   ]
  },
  {
   "cell_type": "code",
   "execution_count": null,
   "metadata": {},
   "outputs": [],
   "source": [
    "point = 10, 20, 30\n",
    "x, y, z = point\n",
    "print(x,  y , z)\n",
    "\n"
   ]
  },
  {
   "cell_type": "code",
   "execution_count": null,
   "id": "rational-circle",
   "metadata": {
    "tags": []
   },
   "outputs": [],
   "source": [
    "x, y = 0, 1\n",
    "while x < 10:\n",
    "    print(x)\n",
    "    x, y  = y, x+y       \n"
   ]
  },
  {
   "source": [
    "## Sentinel Value\n",
    "* Sentinel Values are variables or values used to indicate a state\n",
    "* In programming, a sentinel value is used to terminate a condition, typically a loop \n"
   ],
   "cell_type": "markdown",
   "metadata": {}
  },
  {
   "cell_type": "code",
   "execution_count": null,
   "metadata": {},
   "outputs": [],
   "source": [
    "MIN_AGE = 1\n",
    "MAX_AGE = 101\n",
    "EXIT_VALUE = -1 # Declare Sentinal Value\n",
    "age = 0\n",
    "ageList =[]\n",
    "\n",
    "while (age != EXIT_VALUE): #enter the loop when age != -1\n",
    "    added = False\n",
    "    while added == False:\n",
    "        age = int(input(f\"Enter the age between {MIN_AGE} & {MAX_AGE}. To exit, enter {EXIT_VALUE} \" ))\n",
    "        if(age == EXIT_VALUE):\n",
    "            print(\"You chose to exit the program. Thank You!!\")\n",
    "            break # breaks the inner loop\n",
    "        elif MIN_AGE < age < MAX_AGE:\n",
    "            ageList.append(age)\n",
    "            added = True\n",
    "\n",
    "for i in ageList: \n",
    "    print(i)    \n"
   ]
  },
  {
   "cell_type": "code",
   "execution_count": null,
   "metadata": {},
   "outputs": [],
   "source": [
    "MIN_AGE = 1\n",
    "MAX_AGE = 101\n",
    "EXIT_VALUE = -1 # Declare Sentinal Value\n",
    "age = 0\n",
    "\n",
    "while (age != EXIT_VALUE):\n",
    "    age = int(input(f\"Enter the age between {MIN_AGE} & {MAX_AGE}. To exit, enter {EXIT_VALUE} \" ))\n",
    "    if(age == EXIT_VALUE):\n",
    "        print(\"You chose to exit the program. Thank You!!\")\n",
    "        pass\n",
    "    elif MIN_AGE < age < MAX_AGE:\n",
    "        print(age)\n",
    "\n"
   ]
  },
  {
   "source": [
    "## Exit Strategy\n",
    "### `break`\n",
    "* The `break` statement terminates the current loop\n",
    "* Use break condition when an external condition triggers requiring to break the loop. \n",
    "\n",
    "### `continue`\n",
    "* Continues with the next cycle of the nearest enclosing loop.\n",
    "\n",
    "### `pass`\n",
    "* Is a null operation - when it is executed nothing happens. \n",
    "* Useful as a placeholder when a statement is required syntactically, but no code needs to be executed. \n",
    "* Helpful while defining classes or functions.\n"
   ],
   "cell_type": "markdown",
   "metadata": {}
  },
  {
   "cell_type": "code",
   "execution_count": 22,
   "metadata": {},
   "outputs": [
    {
     "output_type": "stream",
     "name": "stdout",
     "text": [
      "2 is prime number\n3 is prime number\n4 is not a prime number\n5 is prime number\n6 is not a prime number\n7 is prime number\n8 is not a prime number\n9 is not a prime number\n10 is not a prime number\n11 is prime number\n12 is not a prime number\n13 is prime number\n14 is not a prime number\n15 is not a prime number\n16 is not a prime number\n17 is prime number\n18 is not a prime number\n19 is prime number\n20 is not a prime number\n"
     ]
    }
   ],
   "source": [
    "counter = 2\n",
    "while counter <= 20:\n",
    "    for x in range(2, counter):\n",
    "        if counter % x == 0: \n",
    "            print(f'{counter} is not a prime number')\n",
    "            break\n",
    "    else:\n",
    "        print(f'{counter} is prime number')   \n",
    "        \n",
    "    counter = counter + 1\n"
   ]
  },
  {
   "cell_type": "code",
   "execution_count": 23,
   "metadata": {},
   "outputs": [
    {
     "output_type": "stream",
     "name": "stdout",
     "text": [
      "0 is even number\n1 is odd number\n2 is even number\n3 is odd number\n4 is even number\n5 is odd number\n6 is even number\n7 is odd number\n8 is even number\n9 is odd number\n10 is even number\n11 is odd number\n12 is even number\n13 is odd number\n14 is even number\n15 is odd number\n16 is even number\n17 is odd number\n18 is even number\n19 is odd number\n20 is even number\n21 is odd number\n"
     ]
    }
   ],
   "source": [
    "#print even numbers\n",
    "counter = -1\n",
    "while counter <= 20:\n",
    "        counter = counter + 1\n",
    "        if counter % x == 0: \n",
    "            print(f'{counter} is even number')\n",
    "            continue\n",
    "    \n",
    "        print(f'{counter} is odd number')   \n",
    "        \n",
    "   \n"
   ]
  },
  {
   "source": [
    "---\n",
    "# Debugging in Python\n",
    " \n",
    "---"
   ],
   "cell_type": "markdown",
   "metadata": {}
  },
  {
   "source": [
    "## Assignments:\n",
    "### Due Date: 23rd Feb\n",
    "## Topic 1: Basic for Loops \n",
    "## Topic 2: Input Validation while Loops\n",
    "## Topic 3: Exiting While Loop\n",
    "        * Same as Topic 2 assignent \n",
    "        * Need a exit condition\n",
    "## Topic 4: Debugging in Python\n"
   ],
   "cell_type": "markdown",
   "metadata": {}
  },
  {
   "source": [
    "---\n",
    "\n",
    "## Classwork (Group)\n",
    "\n",
    "* Calculate federal income tax based on the income brackets\n",
    "    * https://taxfoundation.org/2020-tax-brackets/\n",
    "    * To keep it simple, only calculate for 10%, 12% and 22% for Single & Married Individuals fiing Joint\n",
    "    * You should accept the inputs from the user.\n",
    "    * Display the income tax to be paid for the income. \n",
    "* You should continue to prompt to accept the input till the user requests to quit the program. \n",
    "\n",
    "* Handle Exceptions\n",
    "\n"
   ],
   "cell_type": "markdown",
   "metadata": {}
  },
  {
   "source": [],
   "cell_type": "markdown",
   "metadata": {}
  },
  {
   "cell_type": "code",
   "execution_count": null,
   "metadata": {},
   "outputs": [],
   "source": [
    "def calculate_tax(income, status):\n",
    "    if(income <= 9875 and status  =='single') or (income <= 19750 and status == 'married'):\n",
    "        return 0.1\n",
    "    elif (9876 < income <= 40125 and status  =='single') or (19751<= income <= 80250 and status == 'married'): \n",
    "        return 0.12\n",
    "    else :\n",
    "        return 0.22\n",
    "\n",
    "\n",
    "if __name__ == '__main__':\n",
    "    SENTINAL_VALUE = -1\n",
    "    income = 0\n",
    "    tax_amount = 0\n",
    "    while income != SENTINAL_VALUE:\n",
    "        income = int(input('Income Please, Enter -1 to exit '))\n",
    "        if(income == SENTINAL_VALUE): \n",
    "            break\n",
    "        status = input('single or married ')        \n",
    "        tax_amount = income * calculate_tax(income, status)    \n",
    "        print(f'Your tax amount is : {tax_amount}')"
   ]
  }
 ],
 "metadata": {
  "kernelspec": {
   "display_name": "Python 3",
   "language": "python",
   "name": "python3"
  },
  "language_info": {
   "codemirror_mode": {
    "name": "ipython",
    "version": 3
   },
   "file_extension": ".py",
   "mimetype": "text/x-python",
   "name": "python",
   "nbconvert_exporter": "python",
   "pygments_lexer": "ipython3",
   "version": "3.9.1-final"
  }
 },
 "nbformat": 4,
 "nbformat_minor": 5
}