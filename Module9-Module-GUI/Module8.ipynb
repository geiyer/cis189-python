{
 "cells": [
  {
   "source": [
    "## Modules in Python\n",
    "\n",
    "A module is a file containing Python definitions and statements. The file name is the module name with the suffix .py appended. Within a module, the module’s name (as a string) is available as the value of the global variable __name__. \n",
    "\n",
    "\n",
    "* A module can contain executable statements as well as function definitions. These statements are intended to initialize the module. They are executed only the first time the module name is encountered in an import statement. 1 (They are also run if the file is executed as a script.)\n",
    "\n",
    "\n",
    "* Modules can import other modules. It is customary but not required to place all import statements at the beginning of a module (or script, for that matter). The imported module names are placed in the importing module’s global symbol table.\n",
    "\n",
    "### Importing a module\n",
    "\n",
    "* When the interpreter encounters an import statement, it imports the module if the module is present in the search path. A search path is a list of directories that the interpreter searches before importing a module. \n",
    "\n",
    "## Using the from statement\n",
    "\n",
    "* Lets you import specific attributes into the current namespace\n",
    "\n",
    "`from calculate_taxes import calculate_tax, calculate_taxes`\n",
    "\n",
    "* To import all names \n",
    "\n",
    "`from calculate_taxes import *`\n",
    "\n",
    "\n",
    "`import calculate_taxes as tax`\n"
   ],
   "cell_type": "markdown",
   "metadata": {}
  },
  {
   "source": [
    "### Search Path\n",
    "* When a module named e.g. `calculate_taxes` is imported, the interpreter first searches for a built-in module with that name. \n",
    "\n",
    "* If not found, it then searches for a file named calculate_taxes.py in a list of directories given by the variable sys.path. \n",
    "\n",
    "* sys.path is initialized from these locations:\n",
    "    * The directory containing the input script (or the current directory when no file is specified).\n",
    "\n",
    "    * PYTHONPATH (a list of directory names, with the same syntax as the shell variable PATH).\n",
    "\n",
    "    * The installation-dependent default.\n",
    "    \n"
   ],
   "cell_type": "markdown",
   "metadata": {}
  },
  {
   "source": [
    "### Standard Modules\n",
    "* Python comes with a library of standard modules\n",
    "\n",
    "* Some modules are built into the interpreter; \n",
    "\n",
    "* These provide access to operations that are not part of the core of the language but are nevertheless built in, either for efficiency or to provide access to operating system primitives such as system calls. \n",
    "\n",
    "### dir() function\n",
    "* Built-in function returns a sorted list of strings containing the names defined by a module.\n",
    "\n",
    "* __name__ : Modules Name\n",
    "\n"
   ],
   "cell_type": "markdown",
   "metadata": {}
  },
  {
   "source": [
    "## Packages\n",
    "* Packages are the way to structure Python's modules \n",
    "* Heirarchical directory structure\n",
    "\n",
    "```\n",
    "taxes                          >> Top level Package\n",
    "    ├── __init__.py            >> Initialize\n",
    "    ├── married_taxes.py\n",
    "    └── single_taxes.py\n",
    "```              \n"
   ],
   "cell_type": "markdown",
   "metadata": {}
  },
  {
   "source": [
    "## GUI Frameworks\n",
    "* Graphical User Interfaces (GUIs) make program interaction easier (if the GUI is well-designed). \n",
    "* There are cases were you use command line, shell or console programs\n",
    "* Many toolkits in Python\n",
    "    * Thinkter\n",
    "    * PyQT\n",
    "\n",
    "### Tkinter\n",
    "* Tkinter is Python's de-facto standard GUI (Graphical User Interface) package. \n",
    "Creating a GUI using tkinter is four easy steps.\n",
    "    * Import module (import tkinter)\n",
    "    * Create the main window (container)\n",
    "    * Add widgets to the main window\n",
    "    * Apply event trigger on the widgets\n",
    "### Widgets\n",
    "* Frames: Outline the frame to the Tkinter window\n",
    "* Buttons:\n",
    "* Entry:\n",
    "* Check Button:\n",
    "* Radio Button:\n",
    "* Label:\n",
    "* Menu:\n",
    "* ComboBox:\n",
    "* List ComboBox\n",
    "* Scrollbar\n",
    "\n",
    "\n",
    " \n"
   ],
   "cell_type": "markdown",
   "metadata": {}
  },
  {
   "source": [
    "## Assignments:\n",
    "\n",
    "## Topic 1: Python Module\n",
    "## Topic 2: Python Package\n",
    "## Topic 3: Basic GUI\n",
    "\n",
    "\n"
   ],
   "cell_type": "markdown",
   "metadata": {}
  },
  {
   "source": [
    "---\n",
    "\n",
    "## Classwork (Group)\n",
    "* Create a \"taxes\" packages\n",
    "    * Create a folder `taxes`\n",
    "    * Create `__init__.py`\n",
    "    * Create a file `single_taxes`.py and copy the calculate_single_tax\n",
    "    ```python\n",
    "        def calculate_single_tax(income):\n",
    "            if(0 < income < 9875 ):\n",
    "                    return 0.1 * income\n",
    "            elif (9976 < income < 40125):\n",
    "                    return 0.12 * income    \n",
    "            elif (40126 < income < 85525):\n",
    "                    return 0.22 * income \n",
    "            elif (85526 < income < 163300):\n",
    "                    return 0.24 * income \n",
    "\n",
    "    ```\n",
    "* Create a GUI that accepts status and income. Import the `taxes` package\n",
    "    ```\n",
    "        from taxes import * \n",
    "    ```\n",
    "\n",
    "    Labels: \n",
    "\n",
    "        * Status\n",
    "\n",
    "        * Income\n",
    "\n",
    "    Entry:\n",
    "    \n",
    "        * Status\n",
    "\n",
    "        * Income\n",
    "* Create a Button that calls the `calculate_single_tax` function\n",
    "* Display the taxes to the user\n",
    "MVP: Implement 3 tax brackets for Single Status \n",
    "* Return the taxes as per the income\n",
    "    https://taxfoundation.org/2020-tax-brackets/\n",
    "\n",
    " "
   ],
   "cell_type": "markdown",
   "metadata": {}
  },
  {
   "cell_type": "code",
   "execution_count": null,
   "metadata": {},
   "outputs": [],
   "source": []
  }
 ],
 "metadata": {
  "kernelspec": {
   "display_name": "Python 3",
   "language": "python",
   "name": "python3"
  },
  "language_info": {
   "codemirror_mode": {
    "name": "ipython",
    "version": 3
   },
   "file_extension": ".py",
   "mimetype": "text/x-python",
   "name": "python",
   "nbconvert_exporter": "python",
   "pygments_lexer": "ipython3",
   "version": "3.9.1-final"
  }
 },
 "nbformat": 4,
 "nbformat_minor": 5
}