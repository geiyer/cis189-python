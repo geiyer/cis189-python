{
 "cells": [
  {
   "source": [
    "## Test Driven Development\n",
    "Refers to a style of programming which generally involves: \n",
    "* Coding\n",
    "* Testing (in the form of writing unit tests) and \n",
    "* Design (in the form of refactoring).\n",
    "\n",
    "## Expected Benefits\n",
    "* Reductions in defect rates, at the cost of a moderate increase in initial development effort\n",
    "* Shift Left approach\n",
    "* Improved design \n",
    "\n",
    "## Courage:\n",
    "* Test-diven development helps manage fear during programming. \n",
    "* Start Simple\n",
    "* Write Automated tests\n",
    "* Refactor to add design decisions one at a time\n",
    "\n",
    "*Note: Test Driven Development by Kent Beck*\n",
    "\n",
    "## Red, Green, Refactor\n",
    "* Red: Write a test that fails\n",
    "* Green: Write code to make the test pass\n",
    "* Refactor : Refactor code without breaking the test\n"
   ],
   "cell_type": "markdown",
   "metadata": {}
  },
  {
   "source": [
    "# Unit Testing\n",
    "In Unit Testing, use\n",
    "* assertEqual()  – check if the actual result is equal to the expected result.\n",
    "* assertTrue()    – check if the actual result is equal to true.\n",
    "* assertFalse()   – check if the actual result is equal to false.\n",
    "* assertRaises() – check if an exception is raised "
   ],
   "cell_type": "markdown",
   "metadata": {}
  },
  {
   "source": [
    "## Requirements\n",
    "* Calculate area for a rectangle\n",
    "* Calculate area for a square"
   ],
   "cell_type": "markdown",
   "metadata": {}
  },
  {
   "source": [
    "## Mock User Inputs\n",
    "\n",
    "There is a way in unit test to mock user input. \n",
    "## Requirements\n",
    "Test a function that will get the answer to the question if the user wants to quit. The function should return \"Sorry to see you go!\" if yes, and \"Awesome!\" if no. You can write the test first. Be sure to import mock, to \"mock\" user input. Notice the with statement preceding the assert. The assert checks the function equals the expect output.\n",
    "\n",
    "### Patch decorator\n",
    "A common need in tests is to patch a class attribute or a module attribute.\n",
    "e.g. patching a built-in module e.g. Inputs\n"
   ],
   "cell_type": "markdown",
   "metadata": {}
  },
  {
   "source": [
    "## Test Coverage\n",
    "```\n",
    "pip3 install coverage\n",
    "\n",
    "coverage run -m unittest discover\n",
    "coverage report\n",
    "```"
   ],
   "cell_type": "markdown",
   "metadata": {}
  }
 ],
 "metadata": {
  "kernelspec": {
   "name": "python391jvsc74a57bd0aee8b7b246df8f9039afb4144a1f6fd8d2ca17a180786b69acc140d282b71a49",
   "display_name": "Python 3.9.1 64-bit"
  },
  "language_info": {
   "codemirror_mode": {
    "name": "ipython",
    "version": 3
   },
   "file_extension": ".py",
   "mimetype": "text/x-python",
   "name": "python",
   "nbconvert_exporter": "python",
   "pygments_lexer": "ipython3",
   "version": "3.9.1-final"
  }
 },
 "nbformat": 4,
 "nbformat_minor": 5
}