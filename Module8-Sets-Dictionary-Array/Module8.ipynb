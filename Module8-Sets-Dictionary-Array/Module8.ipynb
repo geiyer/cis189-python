{
 "cells": [
  {
   "source": [
    "## Python General Purpose built-in collections\n",
    "* list\n",
    "* tuple\n",
    "* set\n",
    "* dict\n",
    "---\n",
    "## Venn Diagram\n",
    "<img src=\"venn-diagram.png\" alt=\"vendiagram\" width=\"250\" height=\"175\"/>\n",
    "\n",
    "    \n",
    "## Set\n",
    "* A Set is an unordered collection with no duplicate elements.\n",
    "* Basic Use:\n",
    "    * Membership testing\n",
    "    * Eliminating Duplicate entries\n",
    "* Objects also support mathematical operations like\n",
    "    * Union\n",
    "    * Intersection\n",
    "    * Difference\n",
    "    \n",
    "### Set may be constructed in several ways:\n",
    "* Using a curly braces : {}\n",
    "* Using `set()` function: set()\n",
    "    * set(): creates empty set\n",
    "    * {}: creates empty dictionary\n"
   ],
   "cell_type": "markdown",
   "metadata": {}
  },
  {
   "cell_type": "code",
   "execution_count": 4,
   "metadata": {},
   "outputs": [
    {
     "output_type": "stream",
     "name": "stdout",
     "text": [
      " Set: {2, 4, 6}\n value 6 in the set: True\n value 24 in the set: False\n Add to set : {8, 2, 4, 6}\n Length: 4\n Add Duplicate : {8, 2, 4, 6}\n{'b', 'c', 'a'}\n"
     ]
    }
   ],
   "source": [
    "even = {2, 4, 6} # define a set\n",
    "print(f' Set: {even}')\n",
    "print(f' value 6 in the set: {6 in even}') # Membership Testing\n",
    "print(f' value 24 in the set: {24 in even}')# Membership Testing\n",
    "even.add(8)\n",
    "print(f' Add to set : {even}')\n",
    "print(f' Length: {len(even)}')\n",
    "even.add(8) \n",
    "print(f' Add Duplicate : {even}')\n",
    "#Another way to creating a set\n",
    "alphabets = set('abc')\n",
    "print(alphabets)"
   ]
  },
  {
   "source": [
    "## Available Operators & Methods \n",
    "\n",
    "* union: Compute the union of two sets. \n",
    "\n",
    "* intersection: \n",
    "    Extend the list by appending all the items from the iterable.   \n",
    "\n",
    "* difference\n",
    "\n",
    "* isdisjoint: Determines whether or not two sets have any element in common\n",
    "\n",
    "* issubset: Determines whether one set is a subset of another\n",
    "\n",
    "* issuperset\n",
    "---\n",
    "\n"
   ],
   "cell_type": "markdown",
   "metadata": {}
  },
  {
   "cell_type": "code",
   "execution_count": 8,
   "metadata": {},
   "outputs": [
    {
     "output_type": "stream",
     "name": "stdout",
     "text": [
      "union: {1, 2, 3, 5, 7, 9, 11, 13, 15, 17, 19}\nunion: {1, 2, 3, 5, 7, 9, 11, 13, 15, 17, 19}\n############\nintersection: {11, 13, 3, 5}\nintersection: {11, 13, 3, 5}\n############\ndifference: {1, 15, 9, 7}\ndifference:prime - odd {17, 2, 19}\n############\nwhole number : {1, 2, 3, 4, 5, 6, 7, 8, 9, 10, 11, 12, 13, 14, 15, 16, 17, 18, 19, 20}\nodd number : {1, 3, 5, 7, 9, 11, 13, 15}\nis subset: True\nis superset: True\n"
     ]
    }
   ],
   "source": [
    "odds  = {1, 3, 5, 7, 9, 11, 13, 15}\n",
    "prime = {2, 3, 5, 11,13, 17,19}\n",
    "\n",
    "print(f'union: {odds | prime}')\n",
    "print(f'union: {odds.union(prime)}')\n",
    "\n",
    "print(f'{\"#\"*12}')\n",
    "print(f'intersection: {odds & prime}')\n",
    "print(f'intersection: {odds.intersection(prime)}')\n",
    "print(f'{\"#\"*12}')\n",
    "print(f'difference: {odds - prime}')\n",
    "print(f'difference:prime - odd {prime - odds}')\n",
    "\n",
    "print(f'{\"#\"*12}')\n",
    "wholenumber = set(i for i in range(1,21))\n",
    "print(f'whole number : {wholenumber}')\n",
    "print(f'odd number : {odds}')\n",
    "print(f'is subset: {odds <= wholenumber}')\n",
    "print(f'is superset: {wholenumber >= odds}')\n"
   ]
  },
  {
   "source": [
    "## Frozensets()\n",
    "* Another built-in type\n",
    "* In all respects is exactly same as a set\n",
    "* It is immutable. Sets is mutable\n"
   ],
   "cell_type": "markdown",
   "metadata": {}
  },
  {
   "cell_type": "code",
   "execution_count": 10,
   "metadata": {},
   "outputs": [
    {
     "output_type": "stream",
     "name": "stdout",
     "text": [
      " id(before): 140625266688960\n after: frozenset({'mango'})\n id(after): 140625266689408\nmango\n"
     ]
    }
   ],
   "source": [
    "f = frozenset(['apple', 'grapes', 'mango'])\n",
    "s = {'mango', 'pineapple'}\n",
    "#f.add('pineapple')\n",
    "print(f' id(before): {id(f)}')\n",
    "f &= s #intersection\n",
    "print(f' after: {f}')\n",
    "print(f' id(after): {id(f)}')\n",
    "\n",
    "for fruit in f:\n",
    "    print(fruit)"
   ]
  },
  {
   "source": [
    "\n",
    "### Dictionaries\n",
    "* Another useful built-in data type.\n",
    "* Sequences are indexed by range of numbers\n",
    "* Dictionaries are indexed by __keyes__ \n",
    "* Keys:\n",
    "    * Any immutable type: string, numbers\n",
    "    * Tuples can be used \n",
    "    * Cannot use list as keys, since list can be modified in place\n",
    "* Think of dictionary as Key:Value pairs\n",
    "* Keys should be unique. \n"
   ],
   "cell_type": "markdown",
   "metadata": {}
  },
  {
   "cell_type": "code",
   "execution_count": 11,
   "metadata": {},
   "outputs": [
    {
     "output_type": "stream",
     "name": "stdout",
     "text": [
      "5152892929\n{'LukeSkywalker': 5152892929, 'PrincessLeia': 3242442244, 'DarthVader': 7262772727}\n111\n452222\n{'LukeSkywalker': 5152892929, 'PrincessLeia': 3242442244, 'DarthVader': 452222}\nFalse\nTrue\nLukeSkywalker >>> 5152892929\nPrincessLeia >>> 3242442244\nDarthVader >>> 452222\n####################\n('LukeSkywalker', 5152892929)\n('PrincessLeia', 3242442244)\n('DarthVader', 452222)\n####################\nLukeSkywalker >>> 5152892929\nPrincessLeia >>> 3242442244\nDarthVader >>> 452222\n####################\nLukeSkywalker\nPrincessLeia\nDarthVader\n####################\n5152892929\n3242442244\n452222\n####################\n{'LukeSkywalker': 5152892929, 'PrincessLeia': 3242442244}\n"
     ]
    }
   ],
   "source": [
    "starWars = {'LukeSkywalker':5152892929,'PrincessLeia':3242442244}\n",
    "print(starWars['LukeSkywalker'])\n",
    "starWars['DarthVader']= 7262772727\n",
    "print(starWars)\n",
    "starWars['DarthVader']= 111 #Update Dictionary\n",
    "print(starWars['DarthVader'])\n",
    "starWars.update({'DarthVader': 452222})#Update Dictionary\n",
    "print(starWars['DarthVader'])\n",
    "sorted(starWars)\n",
    "print(starWars)\n",
    "print('Data' in starWars)\n",
    "print('DarthVader' in starWars)\n",
    "'DarthVader' in starWars.keys() #Membership testing\n",
    "'5152892929' in starWars.values() #Luke's number\n",
    "\n",
    "del starWars['DarthVader']#Delete from Dictionary\n",
    "print(starWars)"
   ]
  },
  {
   "cell_type": "code",
   "execution_count": 12,
   "metadata": {},
   "outputs": [
    {
     "output_type": "stream",
     "name": "stdout",
     "text": [
      "LukeSkywalker >>> 5152892929\nPrincessLeia >>> 3242442244\n####################\n('LukeSkywalker', 5152892929)\n('PrincessLeia', 3242442244)\n####################\nLukeSkywalker >>> 5152892929\nPrincessLeia >>> 3242442244\n####################\nLukeSkywalker\nPrincessLeia\n####################\n5152892929\n3242442244\n####################\n"
     ]
    }
   ],
   "source": [
    "starWars = {'LukeSkywalker':5152892929,'PrincessLeia':3242442244}\n",
    "\n",
    "for key in starWars:\n",
    "    print(key, '>>>', starWars[key]) #return all keys and value\n",
    "\n",
    "print('#'*20)\n",
    "for item in starWars.items():\n",
    "    print(item) #return all keys and value\n",
    "\n",
    "print('#'*20)\n",
    "for key, value in starWars.items():\n",
    "    print(key, '>>>', value) #return all keys and value\n",
    "print('#'*20)\n",
    "\n",
    "for key in starWars.keys():\n",
    "    print(key) #return all keys \n",
    "    \n",
    "print('#'*20)\n",
    "\n",
    "for value in starWars.values():\n",
    "    print(value) #return all values \n",
    "    \n",
    "print('#'*20)\n",
    "\n"
   ]
  },
  {
   "source": [
    "## Switch Case Statement\n",
    "* Python does not have a simple switch-case \n",
    "\n",
    "```java\n",
    "\n",
    "    variableToCompare\n",
    "    switch( variableToCompare ) {\n",
    "       case c: ...statements...\n",
    "           break \n",
    "       case a: ...statements...\n",
    "           break\n",
    "       case s: ...statements...\n",
    "           break \n",
    "       case e: ...statements...\n",
    "            break\n",
    "        default: ...statements...\n",
    "           break\n",
    "}\n",
    "```\n",
    "* Use dictionary to construct and implement switch cases.\n",
    "> __Note__: Structural Pattern Matching is approved for 3.10 release. More [information](https://www.python.org/dev/peps/pep-0634/#the-match-statement)\n"
   ],
   "cell_type": "markdown",
   "metadata": {}
  },
  {
   "cell_type": "code",
   "execution_count": 13,
   "metadata": {},
   "outputs": [
    {
     "output_type": "stream",
     "name": "stdout",
     "text": [
      "Sunday\nFriday\n"
     ]
    }
   ],
   "source": [
    "def weekDay(dayOfTheWeek):\n",
    "    d = {\n",
    "        0: 'Sunday',\n",
    "        1: 'Monday',\n",
    "        2: 'Tuesday',\n",
    "        3: 'Wednesday',\n",
    "        4: 'Thursday',\n",
    "        5: 'Friday',\n",
    "        6: 'Saturday'\n",
    "    }\n",
    "    return d[dayOfTheWeek]\n",
    "\n",
    "print(weekDay(0)) # Sunday\n",
    "print(weekDay(5)) # Friday"
   ]
  },
  {
   "source": [
    "## Arrays\n",
    "* Arrays are not a built-in type. \n",
    "* You should import a modut array. \n",
    "* You can use the built-in list as an array\n",
    "* Arrays are sequence and behave much like lists. \n",
    "* You can constraint the types that can be stored in an array. \n",
    "* The __Type Code__ provides additional [information](https://docs.python.org/3/library/array.html)\n",
    "* Suppors the ordinary sequence operations of indexing, slicing, concatenation & multiplication \n"
   ],
   "cell_type": "markdown",
   "metadata": {}
  },
  {
   "cell_type": "code",
   "execution_count": 16,
   "metadata": {},
   "outputs": [
    {
     "output_type": "stream",
     "name": "stdout",
     "text": [
      "[2, 3.14, 'A String in a list']\narray('f', [1.2000000476837158, 2.299999952316284, 4.5])\narray('i', [1, 5, 8, 3])\nfrom 1st to 3rd: array('i', [1, 5, 8])\nlength: 4\nsearch 5 in array: True\nsearch 22 in array: False\nsorted: [1, 3, 5, 8]\nreversed: [3, 8, 5, 1]\narray('i', [1, 5, 8, 3])\narray('i', [3, 8, 5, 1])\n"
     ]
    }
   ],
   "source": [
    "listWithAnyType = [2, 3.14,'A String in a list']\n",
    "print(listWithAnyType)\n",
    "\n",
    "\n",
    "import array as arr\n",
    "a= arr.array('f', [1.2, 2.3, 4.5])# f is for float\n",
    "print(a)\n",
    "b = arr.array('i', [1, 5,8, 3])# if 'a' or 5.2 is added it will throw error\n",
    "print(b) \n",
    "print(f'from 1st to 3rd: {b[0:3]}')\n",
    "print(f'length: {len(b)}')\n",
    "print(f'search 5 in array: {5 in b}')\n",
    "print(f'search 22 in array: {22 in b}')\n",
    "print(f'sorted: {sorted(b)}') #using sorted method\n",
    "print(f'reversed: {list(reversed(b))}') #using reversed method; returns iterable. Hence should be casted with list to return the reversed array\n",
    "reverse_array = b\n",
    "print(reverse_array)\n",
    "reverse_array.reverse()\n",
    "print(reverse_array)"
   ]
  },
  {
   "source": [
    "## Testing\n",
    "* Manual Testing\n",
    "    * Manually providing the inputs to the program\n",
    "    * Inefficient\n",
    "* Automated Testing: Unit Testing\n",
    "    * You write code to test your program\n",
    "    * Writing Unit testing is part of coding\n",
    "    * Write code in small units to ensure it is easily tested\n",
    "    * Test for invalid inputs, edge cases, valid input\n",
    "    * Once you have many of the cases, you have a good coverage\n",
    "\n",
    "\n",
    "* https://code.visualstudio.com/docs/python/testing\n",
    "\n",
    "## Unit Test \n",
    "### setUp()\n",
    "    * Method called to prepare the test fixture\n",
    "    * This is called immediately before callign the test method\n",
    "### tearDown()\n",
    "    * Metod called immediately after the test method has been called and the results recorded. \n",
    "\n",
    "### setupClass()\n",
    "    * A class method called before tests\n",
    "### tearDownClass()\n",
    "    * A class method called after tests in an individual class have run.    \n"
   ],
   "cell_type": "markdown",
   "metadata": {}
  },
  {
   "source": [
    "## Assignments:\n",
    "\n",
    "## Topic 1: Set Assignment\n",
    "## Topic 2: Unit Test Dictionary\n",
    "## Topic 3: Selection using Dictionary\n",
    "## Topic 4: Search & Sort Array\n",
    "\n",
    "\n"
   ],
   "cell_type": "markdown",
   "metadata": {}
  },
  {
   "source": [
    "---\n",
    "\n",
    "## Classwork (Group)\n",
    "* Create a function that accepts status and income\n",
    "* Return the taxes as per the income\n",
    "    https://taxfoundation.org/2020-tax-brackets/\n",
    "* Create a unit test and test for few cases\n",
    "    * MVP: Implement 3 tax brackets for Single Status \n",
    "    * Run the test cases\n",
    " "
   ],
   "cell_type": "markdown",
   "metadata": {}
  },
  {
   "cell_type": "code",
   "execution_count": null,
   "metadata": {},
   "outputs": [],
   "source": []
  }
 ],
 "metadata": {
  "kernelspec": {
   "display_name": "Python 3",
   "language": "python",
   "name": "python3"
  },
  "language_info": {
   "codemirror_mode": {
    "name": "ipython",
    "version": 3
   },
   "file_extension": ".py",
   "mimetype": "text/x-python",
   "name": "python",
   "nbconvert_exporter": "python",
   "pygments_lexer": "ipython3",
   "version": "3.9.1-final"
  }
 },
 "nbformat": 4,
 "nbformat_minor": 5
}