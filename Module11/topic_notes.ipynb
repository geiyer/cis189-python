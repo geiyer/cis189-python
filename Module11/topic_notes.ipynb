{
 "cells": [
  {
   "source": [
    "## Object Oriented Programming\n",
    "\n",
    "* Way to structure the program by bundling related properties and behaviors into individual objects\n",
    "\n",
    "* An object contain data; data in the form of field(attributes or properties).\n",
    "\n",
    "* Object also contain code (procedures or methods) that are used to manipulate the data. \n",
    "\n",
    "\n",
    "\n",
    "### Objects & Classes\n",
    "\n",
    "* Classes: \n",
    "    * Provides means to bundle data and functionality \n",
    "     * Blueprint \n",
    "     * Contain fields and methods\n",
    "* Objects: Instances of classes\n",
    "    \n",
    "\n",
    "### Example:\n",
    "#### Class: Person\n",
    "* A Person has some properties or attributes\n",
    "    * ID\n",
    "    * Name\n",
    "    * Gender\n",
    "    * Eye Color\n",
    "    * Height\n",
    "    * Weight \n",
    "* A Person performs certain actions\n",
    "    * Walk\n",
    "    * Sleep\n",
    "    * Eat\n",
    "#### Object:\n",
    "\n",
    "    * ID = 223\n",
    "    * Name = 'Jill Curry'\n",
    "    * Eye Color = 'blue'\n",
    "    * Gender = 'F'\n",
    "    * Height = 5.6\n",
    "    * Weight = 135"
   ],
   "cell_type": "markdown",
   "metadata": {}
  },
  {
   "cell_type": "code",
   "execution_count": 9,
   "metadata": {},
   "outputs": [
    {
     "output_type": "stream",
     "name": "stdout",
     "text": [
      "Curry, Jill lives at 123 Main St. Des Moines, IA\n"
     ]
    }
   ],
   "source": [
    "class Employee:\n",
    "    '''Employee Class '''\n",
    "        # Constructor\n",
    "    def __init__(self, lname, fname, house_address = ''):\n",
    "         self.last_name = lname\n",
    "         self.first_name = fname\n",
    "         self.address = house_address\n",
    "\n",
    "    def display(self):\n",
    "         return str(self.last_name) + \", \" + str(self.first_name) + \" lives at \" + self.address\n",
    "\n",
    "# Driver\n",
    "emp = Employee('Curry', 'Jill', '123 Main St. Des Moines, IA')   # call the construtor, needs to have a first and last name in parameter\n",
    "print(emp.display())                # display returns a str, so print the information\n",
    "del emp                             # clean up! "
   ]
  },
  {
   "source": [
    "## Composition\n",
    "* Models a __HAS A __ relationship. \n",
    "* It enables creating a complex types by combining objects of other types. \n",
    "* Composite class can contain an object of another class. \n"
   ],
   "cell_type": "markdown",
   "metadata": {}
  },
  {
   "cell_type": "code",
   "execution_count": 10,
   "metadata": {},
   "outputs": [
    {
     "output_type": "stream",
     "name": "stdout",
     "text": [
      "Curry, Jill\n123 Main St\nIA,Des Moines-50266\n"
     ]
    }
   ],
   "source": [
    "class Employee:\n",
    "    '''Employee Class '''\n",
    "        # Constructor\n",
    "    def __init__(self, lname, fname, house_address = ''):\n",
    "         self.last_name = lname\n",
    "         self.first_name = fname\n",
    "         self.address = house_address\n",
    "\n",
    "    def display(self):\n",
    "         return str(self.last_name) + \", \" + str(self.first_name) + \"\\n\" + self.address.display()\n",
    "\n",
    "class Address:\n",
    "    '''Address Class '''\n",
    "        # Constructor\n",
    "    def __init__(self, street, city, state, zipCode, apt = ''):\n",
    "         self.street = street\n",
    "         self.city = city\n",
    "         self.state = state\n",
    "         self.zip = zipCode\n",
    "\n",
    "    def display(self):\n",
    "         return str(self.street) + \"\\n\" + str(self.city) + \",\" + str(self.state) + \"-\" + str(self.zip)\n",
    "\n",
    "\n",
    "# Driver\n",
    "\n",
    "address = Address('123 Main St', 'IA', 'Des Moines',50266)\n",
    "emp = Employee('Curry', 'Jill', address)   # call the construtor, needs to have a first and last name in parameter\n",
    "\n",
    "print(emp.display())                # display returns a str, so print the information\n",
    "del emp                             # clean up! "
   ]
  },
  {
   "source": [
    "### Pillars: Inheritance\n",
    "* Encapsulation:\n",
    "Object Oriented Programming (OOP) is in essence is defining members and methods, then creating objects to utilize those members and methods. It also includes the idea of restricting access. This makes code cleaner and more maintainable. Modules and namespaces in Python were useful ways to organize code, classes and OOP takes that organization one step further. Although Python does not have the keyword private you may see in other languages to restrict access, it uses convention and name mangling. \n",
    "\n",
    "* Inheritance:\n",
    "    * Inheritance is a way of one class to derive the properties from another class. \n",
    "    * It provides reusability of a code. \n",
    "    * Modify the behaviour defined in other class\n",
    "    * Base Class:\n",
    "        * The class whose members are inherited is called the base class\n",
    "    * Derived Class:\n",
    "        * The class that inherits those membes is called the derived class\n",
    "\n",
    "* Abstraction\n",
    "* Polymorphism\n",
    "\n"
   ],
   "cell_type": "markdown",
   "metadata": {}
  },
  {
   "cell_type": "code",
   "execution_count": 11,
   "metadata": {},
   "outputs": [
    {
     "output_type": "stream",
     "name": "stdout",
     "text": [
      "Curry, Jill\n"
     ]
    }
   ],
   "source": [
    "class Person:\n",
    "    '''Person Class '''\n",
    "        # Constructor\n",
    "    def __init__(self, lname, fname):\n",
    "         name_characters = set(\"ABCDEFGHIJKLMNOPQRSTUVWXYZabcdefghijklmnopqrstuvwxyz'-\")\n",
    "         if not (name_characters.issuperset(lname) and name_characters.issuperset(fname)):\n",
    "            raise ValueError\n",
    "         self.last_name = lname\n",
    "         self.first_name = fname\n",
    "     \n",
    "    def display(self):\n",
    "         return str(self.last_name) + \", \" + str(self.first_name)\n",
    "\n",
    "# Driver\n",
    "emp = Person('Curry', 'Jill')   # call the construtor, needs to have a first and last name in parameter\n",
    "print(emp.display())\n",
    "del emp                             # clean up! "
   ]
  },
  {
   "cell_type": "code",
   "execution_count": 13,
   "metadata": {},
   "outputs": [
    {
     "output_type": "stream",
     "name": "stdout",
     "text": [
      "Curry, Jill\nDepartment: Sales Emp ID:  1029\n"
     ]
    }
   ],
   "source": [
    "class Person:\n",
    "    '''Person Class '''\n",
    "        # Constructor\n",
    "    def __init__(self, lname, fname):\n",
    "         name_characters = set(\"ABCDEFGHIJKLMNOPQRSTUVWXYZabcdefghijklmnopqrstuvwxyz'-\")\n",
    "         if not (name_characters.issuperset(lname) and name_characters.issuperset(fname)):\n",
    "            raise ValueError\n",
    "         self.last_name = lname\n",
    "         self.first_name = fname\n",
    "     \n",
    "    def display(self):\n",
    "         return str(self.last_name) + \", \" + str(self.first_name)\n",
    "\n",
    "class Employee(Person):\n",
    "    '''Employee Class derives from Person'''\n",
    "        # Constructor\n",
    "    def __init__(self, lname, fname, dept, empId):\n",
    "        super().__init__(lname, fname)\n",
    "        self.department = dept\n",
    "        self.ID = empId\n",
    "\n",
    "    #Method overriding: changing the behaviour of the method \n",
    "    def display(self): \n",
    "         return str(super().display()) + \"\\nDepartment: \" + str(self.department) + \" Emp ID:  \" + str(self.ID) \n",
    "\n",
    "\n",
    "# Driver\n",
    "emp = Employee('Curry', 'Jill', 'Sales', 1029)   # call the construtor, needs to have a first and last name in parameter\n",
    "print(emp.display())\n",
    "del emp                             # clean up! "
   ]
  },
  {
   "source": [
    "### Pillars: Polymorphism\n",
    "* Encapsulation:\n",
    "Object Oriented Programming (OOP) is in essence is defining members and methods, then creating objects to utilize those members and methods. It also includes the idea of restricting access. This makes code cleaner and more maintainable. Modules and namespaces in Python were useful ways to organize code, classes and OOP takes that organization one step further. Although Python does not have the keyword private you may see in other languages to restrict access, it uses convention and name mangling. \n",
    "\n",
    "* Inheritance:\n",
    "    * Inheritance is a way of one class to derive the properties from another class. \n",
    "    * It provides reusability of a code. \n",
    "    * Modify the behaviour defined in other class\n",
    "    * Base Class:\n",
    "        * The class whose members are inherited is called the base class\n",
    "    * Derived Class:\n",
    "        * The class that inherits those membes is called the derived class\n",
    "* Polymorphism\n",
    "    * Simply stated, includes having \"many forms\". \n",
    "    * In many languages, Polymorphism can occur with multiple constructors. \n",
    "    * With Python's powerful and succinct constructors and the use of default values, you do not use many constructors. However, derived class can have methods of the same name as in the base that override the base class methods.\n",
    "\n",
    "\n",
    "* Abstraction\n",
    "\n"
   ],
   "cell_type": "markdown",
   "metadata": {}
  },
  {
   "source": [
    "## Unit Testing Base & Derived Class\n",
    "* Check the example from folder classtesting\n",
    "\n",
    "* Should test both the base and derived class\n",
    "\n",
    "### Python Module Import\n",
    " Python interpreter looks for an imported module in the following order:\n",
    "\n",
    "* built-in module (such as unittest, os, …)\n",
    "* directory containing the input script (or the current directory)\n",
    "* directories specified by the PYTHONPATH environment variable\n",
    "* installation-dependent default"
   ],
   "cell_type": "markdown",
   "metadata": {}
  },
  {
   "source": [
    "## Multiple Inheritance\n",
    "\n",
    "* Supports a form of Multiple Inheritance\n",
    "* Search of attributes inherited from a parent class as depth-first, left-to-right\n",
    "\n",
    "e.g. class DerivedClassName(Base1, Base2, Base3)\n",
    "\n",
    "* If an attribute is not found in DerivedClassName, it is searched for in Base1, then (recursively) in the base classes of Base1, and if it was not found there, it was searched for in Base2, and so on. \n"
   ],
   "cell_type": "markdown",
   "metadata": {}
  },
  {
   "source": [
    "\n",
    "class Policy():\n",
    "    def __init__(self, startDate, endDate, premium):\n",
    "        self._startDate = startDate\n",
    "        self._endDate = endDate\n",
    "        self._premium  = premium\n",
    "\n",
    "    def EffectiveDate(self):\n",
    "        return self._startDate\n",
    "    \n",
    "    def ExpirationDate(self):\n",
    "        return self._endDate\n",
    "    \n",
    "    def Premium(self):\n",
    "        return self._premium\n",
    "\n",
    "class Auto():\n",
    "    def __init__(self, make, model, vin):\n",
    "        self._make = make\n",
    "        self._model = model\n",
    "        self._vin = vin\n",
    "\n",
    "    def Make(self):\n",
    "        return self._make\n",
    "    \n",
    "    def Model(self):\n",
    "        return self._model\n",
    "    \n",
    "    def VIN(self):\n",
    "        return self._vin\n",
    "    \n",
    "\n",
    "class AutoPolicy(Auto, Policy):\n",
    "    def __init__(self, make, model, vin, effective, expiration, premium ):\n",
    "        Auto.__init__(self, make, model, vin)\n",
    "        Policy.__init__(self, effective, expiration, premium)\n",
    "    \n",
    "# driver code\n",
    "autoPolicy = AutoPolicy('Tesla', 'Model3', 'A1VIN23646464152', '03/30/2021', '03/31/2022', 1500 )\n",
    "print(autoPolicy.Make())\n",
    "print(autoPolicy.Premium())\n"
   ],
   "cell_type": "code",
   "metadata": {},
   "execution_count": null,
   "outputs": []
  },
  {
   "cell_type": "code",
   "execution_count": null,
   "metadata": {},
   "outputs": [],
   "source": [
    "class Person:\n",
    "    '''Person Class '''\n",
    "        # Constructor\n",
    "    def __init__(self, lname, fname):\n",
    "         name_characters = set(\"ABCDEFGHIJKLMNOPQRSTUVWXYZabcdefghijklmnopqrstuvwxyz'-\")\n",
    "         if not (name_characters.issuperset(lname) and name_characters.issuperset(fname)):\n",
    "            raise ValueError\n",
    "         self.last_name = lname\n",
    "         self.first_name = fname\n",
    "     \n",
    "    def display(self):\n",
    "         return str(self.last_name) + \", \" + str(self.first_name)"
   ]
  },
  {
   "source": [
    "---\n",
    "\n",
    "## Classwork (Group)\n",
    "* Create a class for Home with the following properties\n",
    "    * Year\n",
    "    * Area\n",
    "    * Number of Levels\n",
    "* Create a class HomePolicy(similar to AutoPolicy)\n",
    "\n",
    "* Modify the Person class to accept the list of Policies. \n",
    "    * You have 2 cars\n",
    "    * You have 1 home\n",
    "* Display the Total Premium for all the policies\n",
    "\n",
    " "
   ],
   "cell_type": "markdown",
   "metadata": {}
  },
  {
   "cell_type": "code",
   "execution_count": null,
   "metadata": {},
   "outputs": [],
   "source": []
  }
 ],
 "metadata": {
  "kernelspec": {
   "display_name": "Python 3",
   "language": "python",
   "name": "python3"
  },
  "language_info": {
   "codemirror_mode": {
    "name": "ipython",
    "version": 3
   },
   "file_extension": ".py",
   "mimetype": "text/x-python",
   "name": "python",
   "nbconvert_exporter": "python",
   "pygments_lexer": "ipython3",
   "version": "3.9.1-final"
  }
 },
 "nbformat": 4,
 "nbformat_minor": 5
}