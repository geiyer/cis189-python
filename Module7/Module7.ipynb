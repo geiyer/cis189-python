{
 "cells": [
  {
   "source": [
    "## Python General Purpose built-in collections\n",
    "* dict\n",
    "* list\n",
    "* set\n",
    "* tuple\n",
    "---\n",
    "## Lists\n",
    "* Are Mutable sequences, typically ised to store collections of homogeneous items \n",
    "* Mutable objects can change their value but keep their id().\n",
    "* Immutable: Objects with a fixed value e.g. numbers, strings & tuples. Such objects cannot be altered. A new object has to be created if a different value has to be stored. \n",
    "* Sequence: An iterable which supports efficient element access using indices via __getitem__() and also defines a __len__() method. \n",
    "\n",
    "### List may be constructed in several ways:\n",
    "* Using a pair of square brackets to denote empty list: []\n",
    "* Using square brackets, separating items with commas: [a, b, c]\n",
    "* Using a list comprehension: [x for x in iterable]\n",
    "* Using the type constructor: list() or list(iterable)\n",
    "\n",
    "\n",
    "\n",
    "\n",
    "\n",
    "\n",
    "\n"
   ],
   "cell_type": "markdown",
   "metadata": {}
  },
  {
   "source": [
    "## Common Sequence Operations\n",
    "\n",
    "|Operation|Result|Notes|\n",
    "|---------|--------|-----|\n",
    "|`x in s`|`True` if an item of s is equal to x, else `False`||\n",
    "|`x not in s`|`False` if an item of s is equal to x, else `True`||\n",
    "|`s + t`|the concatenation of s & t||\n",
    "|`s * n`|add s n times||\n",
    "|`s[i]`|ith item of s||\n",
    "|`s[i:j]`|slice of s from i to j||\n",
    "|`s[i:j:k]`|slice of s from i to j with step k||\n",
    "|`len(s)`|length of s||\n",
    "|`s.count(x)`|total number of occurrences of x in s||\n",
    "\n",
    "\n",
    "\n"
   ],
   "cell_type": "markdown",
   "metadata": {}
  },
  {
   "cell_type": "code",
   "execution_count": 3,
   "metadata": {},
   "outputs": [
    {
     "output_type": "stream",
     "name": "stdout",
     "text": [
      " list: [2, 4, 6]\n value 6 in the list: True\n value 24 in the list: False\n concat 2 list: [2, 4, 6, 8, 10, 12]\n 0th item:  2 \n from 1st item till 5th: [2, 4, 6, 8, 10]\n from 1st item till 5th, skip by 2: [2, 6, 10]\n length: 6\n12\n12\n"
     ]
    }
   ],
   "source": [
    "even = [2, 4, 6] # define a list\n",
    "print(f' list: {even}')\n",
    "print(f' value 6 in the list: {6 in even}')\n",
    "print(f' value 24 in the list: {24 in even}')\n",
    "anotherlist = list((8,10,12)) # another way to define a list\n",
    "even = even + anotherlist\n",
    "print(f' concat 2 list: {even}') # concatenation of two list\n",
    "print(f' 0th item:  {even[0]} ') # ith item of s\n",
    "print(f' from 1st item till 5th: {even[0: 5]}')\n",
    "print(f' from 1st item till 5th, skip by 2: {even[0: 5: 2]}')\n",
    "print(f' length: {len(even)}')\n",
    "print(even[len(even)-1])\n",
    "print(even[-1])\n",
    "even.append(8)\n",
    "\n",
    "\n"
   ]
  },
  {
   "source": [
    "## List Methods \n",
    "\n",
    "* list.append(x)\n",
    "    Add an item to the end of the list. \n",
    "\n",
    "* list.extend(iterable)\n",
    "    Extend the list by appending all the items from the iterable.   \n",
    "\n",
    "* list.insert(i, x)\n",
    "    Insert an item at a given position. The first argument is the index of the element before which to insert, so a.insert(0, x) inserts at the front of the list, and a.insert(len(a), x) is equivalent to a.append(x).\n",
    "\n",
    "* list.remove(x)\n",
    "    Remove the first item from the list whose value is equal to x. It raises a ValueError if there is no such item.\n",
    "\n",
    "* list.pop([i])\n",
    "    Remove the item at the given position in the list, and return it. If no index is specified, a.pop() removes and returns the last item in the list. \n",
    "\n",
    "* list.clear()\n",
    "    Remove all items from the list. Equivalent to del a[:].\n",
    "\n",
    "* list.index(x[, start[, end]])\n",
    "    Return zero-based index in the list of the first item whose value is equal to x. Raises a ValueError if there is no such item.\n",
    "\n",
    "* list.count(x)\n",
    "    Return the number of times x appears in the list.\n",
    "\n",
    "* list.sort(*, key=None, reverse=False)\n",
    "    Sort the items of the list in place (the arguments can be used for sort customization, see sorted() for their explanation).\n",
    "\n",
    "* list.reverse()\n",
    "    Reverse the elements of the list in place.\n",
    "\n",
    "* list.copy()\n",
    "    Return a shallow copy of the list.  \n",
    "---\n",
    "\n"
   ],
   "cell_type": "markdown",
   "metadata": {}
  },
  {
   "cell_type": "code",
   "execution_count": 4,
   "metadata": {},
   "outputs": [
    {
     "output_type": "stream",
     "name": "stdout",
     "text": [
      "list: [1, 3, 5, 7, 9]\nlist extend: [1, 3, 5, 7, 9, 11, 13, 15]\ninsert 17 at position 2: [1, 3, 17, 5, 7, 9, 11, 13, 15]\ninsert 17 at the end: [1, 3, 17, 5, 7, 9, 11, 13, 15, 17]\nnumber of times 17 occurs: 2\nremoves the first occurrence of 17: [1, 3, 5, 7, 9, 11, 13, 15, 17]\nRemoves the item at 1st position and returns: 3\nlist: [1, 5, 7, 9, 11, 13, 15, 17]\nvalue at 3rd position(Zero-Based): 9 \nreverse: [17, 15, 13, 11, 9, 7, 5, 1] \nsort: [1, 5, 7, 9, 11, 13, 15, 17] \nsearch for 9; found in index 3 : 3\n"
     ]
    },
    {
     "output_type": "error",
     "ename": "ValueError",
     "evalue": "29 is not in list",
     "traceback": [
      "\u001b[0;31m---------------------------------------------------------------------------\u001b[0m",
      "\u001b[0;31mValueError\u001b[0m                                Traceback (most recent call last)",
      "\u001b[0;32m<ipython-input-4-528c78235ef0>\u001b[0m in \u001b[0;36m<module>\u001b[0;34m\u001b[0m\n\u001b[1;32m     22\u001b[0m \u001b[0;34m\u001b[0m\u001b[0m\n\u001b[1;32m     23\u001b[0m \u001b[0mprint\u001b[0m\u001b[0;34m(\u001b[0m\u001b[0;34mf'search for 9; found in index 3 : {odds.index(9)}'\u001b[0m\u001b[0;34m)\u001b[0m\u001b[0;34m\u001b[0m\u001b[0;34m\u001b[0m\u001b[0m\n\u001b[0;32m---> 24\u001b[0;31m \u001b[0mprint\u001b[0m\u001b[0;34m(\u001b[0m\u001b[0;34mf'search for 29; error : {odds.index(29)}'\u001b[0m\u001b[0;34m)\u001b[0m\u001b[0;34m\u001b[0m\u001b[0;34m\u001b[0m\u001b[0m\n\u001b[0m",
      "\u001b[0;31mValueError\u001b[0m: 29 is not in list"
     ]
    }
   ],
   "source": [
    "odds  = [1, 3, 5, 7]\n",
    "odds.append(9)\n",
    "print(f'list: {odds}')\n",
    "odds.extend([11, 13, 15])\n",
    "print(f'list extend: {odds}')\n",
    "odds.insert(2, 17)\n",
    "print(f'insert 17 at position 2: {odds}')\n",
    "odds.append(17) #inserts at the end\n",
    "print(f'insert 17 at the end: {odds}')\n",
    "print(f'number of times 17 occurs: {odds.count(17)}')\n",
    "\n",
    "odds.remove(17)\n",
    "print(f'removes the first occurrence of 17: {odds}')\n",
    "\n",
    "print(f'Removes the item at 1st position and returns: {odds.pop(1)}')\n",
    "print(f'list: {odds}')\n",
    "print(f'value at 3rd position(Zero-Based): {odds[3]} ')\n",
    "odds.reverse()\n",
    "print(f'reverse: {odds} ')\n",
    "odds.sort()\n",
    "print(f'sort: {odds} ')\n",
    "\n",
    "print(f'search for 9; found in index 3 : {odds.index(9)}')\n",
    "print(f'search for 29; error : {odds.index(29)}')\n"
   ]
  },
  {
   "source": [
    "## Split()\n",
    "* Retuns a list of words in the string, seprated by the delimiter string\n",
    "* if maxsplit is given, at most maxsplit are done\n",
    "* The list will have maxsplit+1 elements"
   ],
   "cell_type": "markdown",
   "metadata": {}
  },
  {
   "cell_type": "code",
   "execution_count": 6,
   "metadata": {},
   "outputs": [
    {
     "output_type": "stream",
     "name": "stdout",
     "text": [
      "['This', 'is', 'a', 'long', 'string']\n['This', 'is', 'a', 'long', 'string']\n['This', 'is', 'a long string']\n['Luke Skywalker', '5152892929', 'Princess Leia', ' 3242442244', ' Darth Vader', ' 7262772727']\n['Luke Skywalker', 'Princess Leia', 'Darth Vader']\n['Luke Skywalker', 'Princess Leia', 'Darth Vader']\n"
     ]
    }
   ],
   "source": [
    "makeListFromString = \"This is a long string\"\n",
    "print(makeListFromString.split()) #No delimiter, defaulted to whitespace\n",
    "print(makeListFromString.split(' '))\n",
    "print(makeListFromString.split(' ', 2)) #\n",
    "namesWithTelephone = \"Luke Skywalker,5152892929,Princess Leia, 3242442244, Darth Vader, 7262772727\"\n",
    "print(namesWithTelephone.split(','))\n",
    "\n",
    "namesInEachLine = \"Luke Skywalker\\nPrincess Leia\\nDarth Vader\"\n",
    "print(namesInEachLine.splitlines())\n",
    "print(namesInEachLine.split('\\n')) #notice, I am using split\n"
   ]
  },
  {
   "source": [
    "\n",
    "### Tuples\n",
    "* Tuples are immutable sequences\n",
    "* Typically used to store collections of heterogenous data\n",
    "* Also used for cases where immutable sequence of homogenous data is needed\n",
    "\n",
    "Tuples may be constructed in number of ways:\n",
    "* Using a pair of parentheses () \n",
    "* Seperating items with commas: a, b, c or (a, b, c)\n",
    "* Using the tuple() \n",
    "\n",
    "> _Note_: It is actually the comma which makes a tuple, not the parentheses\n",
    "\n"
   ],
   "cell_type": "markdown",
   "metadata": {}
  },
  {
   "cell_type": "code",
   "execution_count": 8,
   "metadata": {},
   "outputs": [
    {
     "output_type": "stream",
     "name": "stdout",
     "text": [
      "first value: Luke Skywalker\nsecond value: 5152892929\ntuple: ('Luke Skywalker', 5152892929, 'Princess Leia', 3242442244, 'Darth Vader', 7262772727)\nnested tuples : (('Luke Skywalker', 5152892929, 'Princess Leia', 3242442244, 'Darth Vader', 7262772727), ('Kirk', 'Spock', 'Scotty', 'Data', 'Worf'))\n"
     ]
    },
    {
     "output_type": "error",
     "ename": "TypeError",
     "evalue": "'tuple' object does not support item assignment",
     "traceback": [
      "\u001b[0;31m---------------------------------------------------------------------------\u001b[0m",
      "\u001b[0;31mTypeError\u001b[0m                                 Traceback (most recent call last)",
      "\u001b[0;32m<ipython-input-8-ca12a43127a5>\u001b[0m in \u001b[0;36m<module>\u001b[0;34m\u001b[0m\n\u001b[1;32m      6\u001b[0m \u001b[0mcharacters\u001b[0m \u001b[0;34m=\u001b[0m \u001b[0mstarWars\u001b[0m\u001b[0;34m,\u001b[0m \u001b[0mstarTrek\u001b[0m\u001b[0;34m\u001b[0m\u001b[0;34m\u001b[0m\u001b[0m\n\u001b[1;32m      7\u001b[0m \u001b[0mprint\u001b[0m\u001b[0;34m(\u001b[0m\u001b[0;34mf'nested tuples : {characters}'\u001b[0m\u001b[0;34m)\u001b[0m\u001b[0;34m\u001b[0m\u001b[0;34m\u001b[0m\u001b[0m\n\u001b[0;32m----> 8\u001b[0;31m \u001b[0mstarTrek\u001b[0m\u001b[0;34m[\u001b[0m\u001b[0;36m0\u001b[0m\u001b[0;34m]\u001b[0m \u001b[0;34m=\u001b[0m \u001b[0;34m'Captain America'\u001b[0m\u001b[0;34m\u001b[0m\u001b[0;34m\u001b[0m\u001b[0m\n\u001b[0m\u001b[1;32m      9\u001b[0m \u001b[0mnewStarWars\u001b[0m\u001b[0;34m,\u001b[0m \u001b[0mnewStarTrek\u001b[0m \u001b[0;34m=\u001b[0m \u001b[0mcharacters\u001b[0m \u001b[0;31m# sequence unpacking\u001b[0m\u001b[0;34m\u001b[0m\u001b[0;34m\u001b[0m\u001b[0m\n\u001b[1;32m     10\u001b[0m \u001b[0mprint\u001b[0m\u001b[0;34m(\u001b[0m\u001b[0;34mf'new tuple: {newStarWars}'\u001b[0m\u001b[0;34m)\u001b[0m\u001b[0;34m\u001b[0m\u001b[0;34m\u001b[0m\u001b[0m\n",
      "\u001b[0;31mTypeError\u001b[0m: 'tuple' object does not support item assignment"
     ]
    }
   ],
   "source": [
    "starWars = 'Luke Skywalker',5152892929,'Princess Leia',3242442244,'Darth Vader', 7262772727\n",
    "print(f'first value: {starWars[0]}')\n",
    "print(f'second value: {starWars[1]}')\n",
    "print(f'tuple: {starWars}')\n",
    "starTrek = 'Kirk', 'Spock', 'Scotty', 'Data', 'Worf' #example of tuple packing.\n",
    "characters = starWars, starTrek \n",
    "print(f'nested tuples : {characters}')\n",
    "#starTrek[0] = 'Captain America'\n",
    "newStarWars, newStarTrek = characters # sequence unpacking\n",
    "print(f'new tuple: {newStarWars}')\n",
    "dataExists = 'Data' in newStarTrek\n",
    "print(f'common sequence operation: In: {dataExists} ')\n",
    "\n",
    "print(f'common sequence operation: len: {len(newStarTrek)} ')\n",
    "print(f'common sequence operation: index: {newStarTrek[2]} ')\n",
    "\n",
    "\n"
   ]
  },
  {
   "source": [
    "## Function Arguments\n",
    "```python\n",
    "def calculate_tax(income):\n",
    "    pass\n",
    "```\n",
    "* income is an argument passed to the function\n",
    "### Arbitary Arguments\n",
    "* What if you do not know the number of arguments you wish to pass to a functions. You can pass a list, a tuple or a variable number of arguments. \n",
    "* Add a * before the parameter name\n",
    "> _Note_: In Python documents, arbitary arguments are often mentioned as *args\n",
    " \n",
    "### Keyword Arguments\n",
    "* You can send arguments using _key = value_ syntax\n",
    "* They are variable-length argument list\n",
    "* Use the **kwargs syntax\n",
    "\n",
    "\n",
    "\n"
   ],
   "cell_type": "markdown",
   "metadata": {}
  },
  {
   "cell_type": "code",
   "execution_count": 9,
   "metadata": {},
   "outputs": [
    {
     "output_type": "stream",
     "name": "stdout",
     "text": [
      "1000\n25678\n89765\n125000\n1000\n"
     ]
    }
   ],
   "source": [
    "def calculate_tax(*income):\n",
    "    for i in income:\n",
    "        #perform additional calculation for taxes\n",
    "        print(i)\n",
    "\n",
    "calculate_tax(1000, 25678, 89765, 125000)\n",
    "calculate_tax(1000)"
   ]
  },
  {
   "cell_type": "code",
   "execution_count": 10,
   "metadata": {},
   "outputs": [
    {
     "output_type": "stream",
     "name": "stdout",
     "text": [
      "income1 == 1000\nstatus1 == single\nincome2 == 20000\nstatus2 == married\n"
     ]
    }
   ],
   "source": [
    "def calculate_tax(**incomeAndStatus):\n",
    "    for key, value in incomeAndStatus.items():\n",
    "        print(\"%s == %s\" % (key, value))\n",
    "\n",
    "calculate_tax(income1 = 1000, status1 = 'single', income2=20000, status2 = 'married')"
   ]
  },
  {
   "source": [
    "## Reading and Writing Files\n",
    "* open() accepts a file name and mode; returns File Object\n",
    "    * mode can be:\n",
    "        * r: Reading\n",
    "        * w: Writing\n",
    "        * a: Appending; Data is added to the end\n",
    "        * b: Binary; Data is read & written in bytes objects\n",
    "* with statement\n",
    "    * Used to wrap the execution of a block \n",
    "    * Good practice to use with when dealing with file objects\n",
    "    * File is properly closed after its suite finishes\n",
    ">  __Note__: If you are not using with, then you should call the close() and immediately free up any system resources used by it.\n",
    "\n",
    "\n"
   ],
   "cell_type": "markdown",
   "metadata": {}
  },
  {
   "cell_type": "code",
   "execution_count": 12,
   "metadata": {},
   "outputs": [
    {
     "output_type": "execute_result",
     "data": {
      "text/plain": [
       "True"
      ]
     },
     "metadata": {},
     "execution_count": 12
    }
   ],
   "source": [
    "starWarsFile = open('starwars.txt', 'w')\n",
    "starWarsFile.write('Luke')\n",
    "starWarsFile.write('Darth Vader')\n",
    "starWarsFile.closed #Not closed\n",
    "starWarsFile.close()\n",
    "starWarsFile.closed #Now closed\n",
    "##############################################"
   ]
  },
  {
   "source": [
    "## Methods of File Objects\n",
    "### Reading\n",
    "* read: read the file's content and returns it as a string\n",
    "* readline: reads a single line from the file; \n",
    "    * a newline character ('\\n') is left at teh end of the string\n",
    "* readlines(): reads all lines as a list of string\n"
   ],
   "cell_type": "markdown",
   "metadata": {}
  },
  {
   "cell_type": "code",
   "execution_count": 13,
   "metadata": {},
   "outputs": [
    {
     "output_type": "stream",
     "name": "stdout",
     "text": [
      "LukeDarth Vader\nTrue\n"
     ]
    }
   ],
   "source": [
    "with open('starwars.txt', 'r') as starWarsFile:\n",
    "    data = starWarsFile.read()\n",
    "    print(data)\n",
    "print(starWarsFile.closed)"
   ]
  },
  {
   "cell_type": "code",
   "execution_count": 14,
   "metadata": {},
   "outputs": [
    {
     "output_type": "stream",
     "name": "stdout",
     "text": [
      "Luke Skywalker, 5152522525\nDarth Vader, 7172672727\nPrincess Leia, 2822822828\nHan Solo, 7822728282\n"
     ]
    }
   ],
   "source": [
    "with open('starwars-characters.txt', 'r') as starWarsFile:\n",
    "    print(starWarsFile.read())\n",
    "\n",
    "\n",
    "    "
   ]
  },
  {
   "cell_type": "code",
   "execution_count": 15,
   "metadata": {},
   "outputs": [
    {
     "output_type": "stream",
     "name": "stdout",
     "text": [
      "Luke Skywalker, 5152\n"
     ]
    }
   ],
   "source": [
    "#read 20 characters\n",
    "with open('starwars-characters.txt', 'r') as starWarsFile:\n",
    "    print(starWarsFile.read(20))\n"
   ]
  },
  {
   "cell_type": "code",
   "execution_count": 16,
   "metadata": {},
   "outputs": [
    {
     "output_type": "stream",
     "name": "stdout",
     "text": [
      "Luke Skywalker, 5152522525\n\nDarth Vader, 7172672727\n\n"
     ]
    }
   ],
   "source": [
    "#read each line\n",
    "with open('starwars-characters.txt', 'r') as starWarsFile:\n",
    "    print(starWarsFile.readline()) # read line 1\n",
    "    print(starWarsFile.readline()) # read line 2\n",
    "    "
   ]
  },
  {
   "cell_type": "code",
   "execution_count": null,
   "metadata": {},
   "outputs": [],
   "source": [
    "#iterate over file object and read all lines    \n",
    "with open('starwars-characters.txt', 'r') as starWarsFile:    \n",
    "    for line in starWarsFile:\n",
    "        print(line, end='')"
   ]
  },
  {
   "cell_type": "code",
   "execution_count": null,
   "metadata": {},
   "outputs": [],
   "source": [
    "#Use readlines method\n",
    "with open('starwars-characters.txt', 'r') as starWarsFile:    \n",
    "    print(starWarsFile.readlines())\n"
   ]
  },
  {
   "cell_type": "code",
   "execution_count": null,
   "metadata": {},
   "outputs": [],
   "source": [
    "## Methods of File Objects\n",
    "### Writing\n",
    "* write: insert the string in a single line\n",
    "* writelines(): write a list of string elements\n"
   ]
  },
  {
   "cell_type": "code",
   "execution_count": 17,
   "metadata": {},
   "outputs": [],
   "source": [
    "with open('starwars.txt', 'w') as starWarsFile:\n",
    "    starWarsFile.write('Luke Skywalker\\n')\n",
    "    starWarsFile.write('Darth Vader')\n",
    "    starWarsFile.write('Princess Leia')\n",
    "    "
   ]
  },
  {
   "cell_type": "code",
   "execution_count": 18,
   "metadata": {},
   "outputs": [],
   "source": [
    "starWars = ['Luke Skywalker\\t','Princess Leia\\t','Darth Vader']\n",
    "\n",
    "with open('starwars.txt', 'w') as starWarsFile:\n",
    "    starWarsFile.writelines(starWars)\n",
    "    "
   ]
  },
  {
   "cell_type": "code",
   "execution_count": null,
   "metadata": {},
   "outputs": [],
   "source": [
    "starTrek = 'Kirk', 'Spock', 'Scotty', 'Data', 'Worf' #example of tuple \n",
    "\n",
    "with open('starTrek.txt', 'w') as starTrekFile:\n",
    "    for character in starTrek:\n",
    "        starTrekFile.write(character)\n",
    "        starTrekFile.write('\\n')"
   ]
  },
  {
   "source": [
    "## Datetime Module\n",
    "* Manipulate dates and times\n",
    "* date, datetime, time, and timezones\n",
    "* timedelta: represents duration, difference between 2 dates or times\n",
    "More information from official [documents](https://docs.python.org/3/library/datetime.html?highlight=datetime#module-datetime)\n"
   ],
   "cell_type": "markdown",
   "metadata": {}
  },
  {
   "cell_type": "code",
   "execution_count": 19,
   "metadata": {},
   "outputs": [
    {
     "output_type": "stream",
     "name": "stdout",
     "text": [
      "2021-03-02 19:50:22.225793\n2021-03-02T19:50:22.225793\n"
     ]
    }
   ],
   "source": [
    "import datetime\n",
    "t = datetime.datetime.now()\n",
    "print(t) # current date & time\n",
    "print(t.isoformat()) # current date & time: ISO\n"
   ]
  },
  {
   "cell_type": "code",
   "execution_count": 20,
   "metadata": {},
   "outputs": [
    {
     "output_type": "stream",
     "name": "stdout",
     "text": [
      "Number of days left: 143 days, 0:00:00\nWeekday: 4\nWeekday: 5\n"
     ]
    }
   ],
   "source": [
    "from datetime import date\n",
    "today = date.today()\n",
    "summer_olympics = date(2021, 7, 23 )\n",
    "print(f'Number of days left: {summer_olympics - today}')\n",
    "print(f'Weekday: {summer_olympics.weekday()}')\n",
    "print(f'Weekday: {summer_olympics.isoweekday()}')\n",
    "\n"
   ]
  },
  {
   "source": [
    "\n",
    "\n"
   ],
   "cell_type": "markdown",
   "metadata": {}
  },
  {
   "source": [
    "## Testing\n",
    "* Manual Testing\n",
    "    * Manually providing the inputs to the program\n",
    "    * Inefficient\n",
    "* Automated Testing: Unit Testing\n",
    "    * You write code to test your program\n",
    "    * Writing Unit testing is part of coding\n",
    "    * Write code in small units to ensure it is easily tested\n",
    "    * Test for invalid inputs, edge cases, valid input\n",
    "    * Once you have many of the cases, you have a good coverage\n",
    "\n",
    "\n",
    "* https://code.visualstudio.com/docs/python/testing\n",
    "\n",
    "## Unit Test \n",
    "### setUp()\n",
    "    * Method called to prepare the test fixture\n",
    "    * This is called immediately before callign the test method\n",
    "### tearDown()\n",
    "    * Metod called immediately after the test method has been called and the results recorded. \n",
    "\n",
    "### setupClass()\n",
    "    * A class method called before tests\n",
    "### tearDownClass()\n",
    "    * A class method called after tests in an individual class have run.    \n"
   ],
   "cell_type": "markdown",
   "metadata": {}
  },
  {
   "source": [
    "## Assignments:\n",
    "\n",
    "## Topic 1: Basic List\n",
    "## Topic 1: Search and Sort List\n",
    "## Topic 2: Function Keyword & Arbitary Arguments Assignment\n",
    "## Topic 3: File I/O using Tuples\n",
    "\n",
    "\n"
   ],
   "cell_type": "markdown",
   "metadata": {}
  },
  {
   "source": [
    "---\n",
    "\n",
    "## Classwork (Group)\n",
    "* Get the public school location data from \n",
    "    * https://catalog.data.gov/dataset/public-school-locations-2017-18\n",
    "    * Download the csv format \n",
    "* Read the file and add the list of schools for the following criteria\n",
    "    * state = 'AL'\n",
    "    * county = 'Marshall County'\n",
    "* You should include the following information about the schools:\n",
    "    * School Name\n",
    "    * City\n",
    "    * Zip\n",
    " * Can you print the \n",
    "    * total number of schools   \n",
    "    * All school names with Zip Codes\n",
    " "
   ],
   "cell_type": "markdown",
   "metadata": {}
  },
  {
   "source": [
    "import os as os\n",
    "\n",
    "def getFilePath(fileName):\n",
    "    file_dir = os.path.dirname(__file__)\n",
    "    return os.path.join(file_dir, fileName)\n"
   ],
   "cell_type": "code",
   "metadata": {},
   "execution_count": null,
   "outputs": []
  }
 ],
 "metadata": {
  "kernelspec": {
   "display_name": "Python 3",
   "language": "python",
   "name": "python3"
  },
  "language_info": {
   "codemirror_mode": {
    "name": "ipython",
    "version": 3
   },
   "file_extension": ".py",
   "mimetype": "text/x-python",
   "name": "python",
   "nbconvert_exporter": "python",
   "pygments_lexer": "ipython3",
   "version": "3.9.1-final"
  }
 },
 "nbformat": 4,
 "nbformat_minor": 5
}