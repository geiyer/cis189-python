{
 "cells": [
  {
   "source": [
    "# Input Validation\n",
    "* Proper testing of any input provided by the user. \n",
    "* Ensure properly formed data is entered into the system.\n",
    "* Prevent malformed data being stored in the database. \n",
    "## Strategies for validation\n",
    "    * Syntactical\n",
    "        * Enforce correct syntax of the field. e.g. Phone number (515-282-2929) or Date of Birth: 02-28-2020(Valid) but 11-31-2020\n",
    "        \n",
    "     * Semantic validation \n",
    "        * Enforce correctness of their values in the specific business context e.g. Minimum age of driver license is 14 years. \n",
    "            \n",
    "## Implementing the Strategies\n",
    "* Data Type validation\n",
    "* Type Conversion\n",
    "* Maximum and Minimum Range checks\n",
    "\n",
    "\n"
   ],
   "cell_type": "markdown",
   "metadata": {}
  },
  {
   "cell_type": "code",
   "execution_count": 55,
   "metadata": {},
   "outputs": [
    {
     "output_type": "stream",
     "name": "stdout",
     "text": [
      "Please enter a valid age.\n"
     ]
    }
   ],
   "source": [
    "age = int(input(\"Enter an age: \"))\n",
    "if(age < 0 ):\n",
    "    print('Please enter a valid age.')\n"
   ]
  },
  {
   "source": [
    "---\n",
    "# Exception\n",
    " * Errors occured during execution of the program\n",
    " * Various types of Exception - Built-in\n",
    "    * NameError\n",
    "    * TypeError\n",
    "    * ZeroDivisionError\n",
    "---"
   ],
   "cell_type": "markdown",
   "metadata": {}
  },
  {
   "cell_type": "code",
   "execution_count": 56,
   "metadata": {},
   "outputs": [
    {
     "output_type": "error",
     "ename": "NameError",
     "evalue": "name 'newVariable' is not defined",
     "traceback": [
      "\u001b[0;31m---------------------------------------------------------------------------\u001b[0m",
      "\u001b[0;31mNameError\u001b[0m                                 Traceback (most recent call last)",
      "\u001b[0;32m<ipython-input-56-88fe38261300>\u001b[0m in \u001b[0;36m<module>\u001b[0;34m\u001b[0m\n\u001b[0;32m----> 1\u001b[0;31m \u001b[0;36m4\u001b[0m \u001b[0;34m+\u001b[0m \u001b[0mnewVariable\u001b[0m \u001b[0;34m*\u001b[0m \u001b[0;36m3\u001b[0m\u001b[0;34m\u001b[0m\u001b[0;34m\u001b[0m\u001b[0m\n\u001b[0m",
      "\u001b[0;31mNameError\u001b[0m: name 'newVariable' is not defined"
     ]
    }
   ],
   "source": [
    "4 + newVariable * 3"
   ]
  },
  {
   "cell_type": "code",
   "execution_count": 10,
   "metadata": {},
   "outputs": [
    {
     "output_type": "error",
     "ename": "TypeError",
     "evalue": "can only concatenate str (not \"int\") to str",
     "traceback": [
      "\u001b[0;31m---------------------------------------------------------------------------\u001b[0m",
      "\u001b[0;31mTypeError\u001b[0m                                 Traceback (most recent call last)",
      "\u001b[0;32m<ipython-input-10-d2b23a1db757>\u001b[0m in \u001b[0;36m<module>\u001b[0;34m\u001b[0m\n\u001b[0;32m----> 1\u001b[0;31m \u001b[0;34m'2'\u001b[0m \u001b[0;34m+\u001b[0m \u001b[0;36m2\u001b[0m\u001b[0;34m\u001b[0m\u001b[0;34m\u001b[0m\u001b[0m\n\u001b[0m",
      "\u001b[0;31mTypeError\u001b[0m: can only concatenate str (not \"int\") to str"
     ]
    }
   ],
   "source": [
    "'2' + 2"
   ]
  },
  {
   "cell_type": "code",
   "execution_count": 57,
   "metadata": {},
   "outputs": [
    {
     "output_type": "error",
     "ename": "ZeroDivisionError",
     "evalue": "division by zero",
     "traceback": [
      "\u001b[0;31m---------------------------------------------------------------------------\u001b[0m",
      "\u001b[0;31mZeroDivisionError\u001b[0m                         Traceback (most recent call last)",
      "\u001b[0;32m<ipython-input-57-f402299d299d>\u001b[0m in \u001b[0;36m<module>\u001b[0;34m\u001b[0m\n\u001b[0;32m----> 1\u001b[0;31m \u001b[0;36m10\u001b[0m \u001b[0;34m+\u001b[0m \u001b[0;36m1\u001b[0m\u001b[0;34m/\u001b[0m\u001b[0;36m0\u001b[0m\u001b[0;34m\u001b[0m\u001b[0;34m\u001b[0m\u001b[0m\n\u001b[0m",
      "\u001b[0;31mZeroDivisionError\u001b[0m: division by zero"
     ]
    }
   ],
   "source": [
    "10 + 1/0"
   ]
  },
  {
   "source": [
    "---\n",
    "## Handling Errors\n",
    " * Use try/except blocks\n",
    " * Code inside the try block is executed\n",
    " * If no error then the except block is not executed\n",
    " * If an error occurs then the code inside the except block is executed.\n",
    " * Can have multiple except block. \n",
    " * Finally block: Clean - up exception \n",
    "    * finally clause will execute as the last task before the try statement completes.\n",
    " \n",
    " \n",
    "\n",
    "---"
   ],
   "cell_type": "markdown",
   "metadata": {}
  },
  {
   "cell_type": "code",
   "execution_count": 62,
   "id": "rational-circle",
   "metadata": {},
   "outputs": [
    {
     "output_type": "stream",
     "name": "stdout",
     "text": [
      "Enter an integer\nCode executed\n"
     ]
    }
   ],
   "source": [
    "try:\n",
    "   x = int(input(\"Please enter a value:\"))\n",
    "   y = 100/x\n",
    "   print(f'The value of y is {y}')\n",
    "except ValueError:\n",
    "    print(\"Enter an integer\")\n",
    "print('Code executed')\n"
   ]
  },
  {
   "cell_type": "code",
   "execution_count": 65,
   "metadata": {},
   "outputs": [
    {
     "output_type": "stream",
     "name": "stdout",
     "text": [
      "Enter a value greater than 0\nFinally Code executed\n"
     ]
    }
   ],
   "source": [
    "try:\n",
    "   x = int(input(\"Please enter a value:\"))\n",
    "   y = 100/x\n",
    "   print(f'The value of y is {y}')\n",
    "except ValueError:\n",
    "    print(\"Enter an integer\")\n",
    "except ZeroDivisionError:\n",
    "    print('Enter a value greater than 0') \n",
    "else: \n",
    "    print('Else Block Executed')     \n",
    "finally:     \n",
    "    print('Finally Code executed')\n"
   ]
  },
  {
   "source": [
    "## Summarize\n",
    "* try always runs\n",
    "* if the try results in an exception, the except section runs.  If there is no exception, this section is skipped\n",
    "* else will run if there are no exceptions from the try.  If there are exceptions, else does not run\n",
    "* finally will always run regardless of exceptions\n",
    "* else and finally are optional sections.\n",
    "---\n",
    "## Raise exception\n",
    "* Allows the programmer to force a specified exception to occur. \n"
   ],
   "cell_type": "markdown",
   "metadata": {}
  },
  {
   "cell_type": "code",
   "execution_count": 68,
   "metadata": {},
   "outputs": [
    {
     "output_type": "stream",
     "name": "stdout",
     "text": [
      "Age should be greater than zero\nNo Errors; Continue execution\n"
     ]
    }
   ],
   "source": [
    "age = int(input(\"Enter an age: \"))\n",
    "if(age < 0 ):\n",
    "    raise ValueError('Age should be greater than Zero.')\n",
    "    #print('Age should be greater than zero')\n",
    "\n",
    "print('No Errors; Continue execution')  \n"
   ]
  },
  {
   "source": [
    "---\n",
    "# Functions\n",
    " * Block of reusable code.\n",
    " * Built-in Functions i.e. int(), str(), float()\n",
    " * User Defined Functions\n",
    "    * Custom functions created by us for a specific purpose.\n",
    "## Defining a function\n",
    "* Define a function using the def keyword.\n",
    "    * e.g. def calculate_tax(): \n",
    "* The : indicates the beginning of the function\n",
    "* Function names should be lowercase, with words separated by underscores as necessary to improve readability.\n",
    "* The body of the function start at the next line, and must be indented.\n",
    "* The first statement can be a string literal, this string literal is the function’s documentation string, or docstring.                    \n",
    "\n",
    "## _ _main_ _\n",
    "* No main() function in python\n",
    "\n",
    "```python\n",
    "__name__ : #Built - in variable that evaluates the name of current module\n",
    "__main__: \n",
    "\n",
    "```\n",
    " * A Module can define functions, classes and Variables, identified by .py file\n",
    " * A module’s __name__ variable is set to '__main__' when read from standard input, a script, or from an interactive prompt.\n",
    " e.g python helloWorld.py \n",
    " * We can check the __name__ variable's value to be __main__ and then invoke the function\n",
    "\n",
    " ```python\n",
    "    def myfunction():\n",
    "        pass\n",
    "\n",
    "    if __name__ == '__main__' :\n",
    "        myfunction()    \n",
    " ```\n",
    "\n",
    "## Invoke a function\n",
    "\n",
    "## Parameter(s)\n",
    "* Are inputs to the Functions.\n",
    "* Variables defined in the function definition\n",
    "* The arguments that are passed to the function\n",
    "* Multiple parameters can be passed to the function\n",
    "* Can have default values(more to come later)\n",
    "\n",
    "\n",
    "## Return Values\n",
    "* Use keyword return \n",
    "* Can return string, integer, float \n",
    "\n",
    "## Return multiple values  \n",
    "* Return multiple values from a function\n",
    "* Values are separated by comma\n",
    "\n",
    "    \n",
    "---"
   ],
   "cell_type": "markdown",
   "metadata": {}
  },
  {
   "cell_type": "code",
   "execution_count": 74,
   "metadata": {},
   "outputs": [
    {
     "output_type": "stream",
     "name": "stdout",
     "text": [
      "Income should be greater than zero\nHelp on function calculate_tax in module __main__:\n\ncalculate_tax(income)\n    Calculates the federal income tax and \n    returns the dollar amount to be paid. \n    : param income: The yearly income before taxes\n    : returns: The tax to be paid in dollars\n    : raises ValueError: When negative numbers are provided\n\n"
     ]
    }
   ],
   "source": [
    "def calculate_tax(income):\n",
    "    \"\"\"Calculates the federal income tax and \n",
    "    returns the dollar amount to be paid. \n",
    "    : param income: The yearly income before taxes\n",
    "    : returns: The tax to be paid in dollars\n",
    "    : raises ValueError: When negative numbers are provided\n",
    "    \"\"\" \n",
    "    if(income < 0): \n",
    "        raise ValueError('Income should be greater than zero')\n",
    "    if(income < 50000):\n",
    "        return 0\n",
    "    elif(50001 < income < 75000):\n",
    "        tax =  income * 0.1\n",
    "        return tax\n",
    "    else:\n",
    "        return income * 0.2        \n",
    "\n",
    "if __name__ == \"__main__\": \n",
    "    income = -1000\n",
    "    try: \n",
    "        tax = calculate_tax(income)\n",
    "    except ValueError as err:\n",
    "         print(err)    \n",
    "    else:\n",
    "        print(f'The tax to be paid is {tax}')\n",
    "    # print('The tax amount is ' + str(calculate_tax(40000))) \n",
    "\n",
    "help(calculate_tax)"
   ]
  },
  {
   "cell_type": "code",
   "execution_count": 75,
   "metadata": {},
   "outputs": [
    {
     "output_type": "stream",
     "name": "stdout",
     "text": [
      "The tax for 80000 is 16000.0. Rate: 20\nThe tax for 60000 is 6000.0. Rate: 10\n"
     ]
    }
   ],
   "source": [
    "def calculate_tax(income):\n",
    "    \"\"\"Calculates the federal income tax and \n",
    "    returns the dollar amount and tax rate. \"\"\" \n",
    "    if(income < 50000):\n",
    "        return 0\n",
    "    elif(50001 < income < 75000):\n",
    "        \n",
    "        return income * 0.1, 10\n",
    "    else:\n",
    "        return income * 0.2, 20        \n",
    "\n",
    "if __name__ == \"__main__\": \n",
    "    income = 80000\n",
    "    tax, rate = calculate_tax(income)\n",
    "    print(f'The tax for {income} is {tax}. Rate: {rate}')\n",
    "\n",
    "    income = 60000\n",
    "    tax, rate = calculate_tax(income)\n",
    "    print(f'The tax for {income} is {tax}. Rate: {rate}')\n",
    "    \n"
   ]
  },
  {
   "source": [
    "## Assignments:\n",
    "Due Date: 16th Feb\n",
    "## Topic 1: Input validation with Try \n",
    "## Topic 2: Basic Function Assignment \n",
    "## Topic 3: Function Return Value\n",
    "## Topic 4: Function Parameter and Return Value\n"
   ],
   "cell_type": "markdown",
   "metadata": {}
  },
  {
   "source": [
    "---\n",
    "\n",
    "## Classwork (Group)\n",
    "\n",
    "Create a function get_user_input(). \n",
    " * Prompts user to enter the name. \n",
    " * Prompts user to enter the age.\n",
    " * Validates the age. Only integers are allowed.\n",
    " * Returns a string 'Hello {name}. Your age is {age}'\n",
    "\n",
    "In the main method:\n",
    "* Invoke the function\n",
    "* Print the results returned from the function.\n",
    "\n",
    "* Handle Exceptions\n",
    "\n",
    "### Food for thought:\n",
    "* Can the inputs be accepted in the main method and passed to a function?\n",
    "* When should we accept the value in main? \n",
    "* Think about Single Responsibility principle while writing the functions.\n",
    "\n"
   ],
   "cell_type": "markdown",
   "metadata": {}
  },
  {
   "source": [],
   "cell_type": "markdown",
   "metadata": {}
  }
 ],
 "metadata": {
  "kernelspec": {
   "display_name": "Python 3",
   "language": "python",
   "name": "python3"
  },
  "language_info": {
   "codemirror_mode": {
    "name": "ipython",
    "version": 3
   },
   "file_extension": ".py",
   "mimetype": "text/x-python",
   "name": "python",
   "nbconvert_exporter": "python",
   "pygments_lexer": "ipython3",
   "version": "3.9.1-final"
  }
 },
 "nbformat": 4,
 "nbformat_minor": 5
}