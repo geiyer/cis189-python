{
 "cells": [
  {
   "source": [
    "## Parameter(s)\n",
    "* Are inputs to the Functions.\n",
    "* The arguments that are passed to the function.\n",
    "* Multiple parameters can be passed to the function\n",
    "* Can have default values\n",
    "* Keyword Arguments\n",
    "* Arbitary Arguments\n",
    "\n",
    "\n",
    "\n",
    "\n",
    "\n",
    "\n",
    "\n"
   ],
   "cell_type": "markdown",
   "metadata": {}
  },
  {
   "cell_type": "code",
   "execution_count": null,
   "metadata": {},
   "outputs": [],
   "source": [
    "def calculate_tax(income, tax_rate):\n",
    "    return income * tax_rate"
   ]
  },
  {
   "source": [
    "## More on Parameters\n",
    "* Possible to define a function with variable number of arguments. \n",
    "* Default Argument Values\n",
    "    * Specify a default value\n",
    "    * Default values prevent mistakes    "
   ],
   "cell_type": "markdown",
   "metadata": {}
  },
  {
   "cell_type": "code",
   "execution_count": null,
   "metadata": {},
   "outputs": [],
   "source": [
    "def calculate_tax(income, tax_rate=0.1):\n",
    "    return income * tax_rate\n",
    "\n",
    "print(calculate_tax(50000))\n",
    "print(calculate_tax(70000, 0.2))"
   ]
  },
  {
   "cell_type": "code",
   "execution_count": null,
   "metadata": {},
   "outputs": [],
   "source": [
    "#https://docs.python.org/3/tutorial/controlflow.html#default-argument-values\n",
    "\n",
    "def ask_ok(prompt, retries=4, reminder='Please try again!(Default retry = 4)'):\n",
    "    \"\"\"\n",
    "        prompt: mandatory argument\n",
    "        retries: default value of 4\n",
    "        reminder: default value\n",
    "    \"\"\"\n",
    "    while retries > 0:\n",
    "        ok = input(prompt)\n",
    "        if ok in ('y', 'ye', 'yes'):\n",
    "            return True\n",
    "        if ok in ('n', 'no', 'nop', 'nope'):\n",
    "            return False\n",
    "        retries = retries - 1\n",
    "        if retries < 0:\n",
    "            raise ValueError('invalid user response')\n",
    "        print(reminder)\n",
    "\n",
    "#ask_ok('Do you want to quit? ') \n",
    "#ask_ok('Do you want to quit? ', 3) \n",
    "#ask_ok('Do you want to quit? ', 3, 'Only yes or no !!')\n",
    "\n",
    "#ask_ok('Do you want to quit? ', 'Only yes or no !!') # Will throw an exception\n",
    "\n",
    "#if you define the arguments when you pass them, you can change the order or omit arguments:\n",
    "#ask_ok(reminder= 'Come on, only yes or no!', prompt='OK to overwrite the file?')\n",
    "\n",
    "\n"
   ]
  },
  {
   "source": [
    " * The above example introduces the `in` keyword\n",
    " \n",
    "> _Note_: the arguments are read in order, so you cannot pass only the second optional argument, when two arguments are passed, they are assumed the the first two arguments. You will get a TypeError when running:\n"
   ],
   "cell_type": "markdown",
   "metadata": {}
  },
  {
   "source": [
    "## Nested Functions\n",
    "* An inner function is function defined inside another function\n",
    "## Why do I need inner function\n",
    "* Encapusalte the data; Data hiding\n",
    "* Inner function is available only within the outer function\n",
    "\n"
   ],
   "cell_type": "markdown",
   "metadata": {}
  },
  {
   "cell_type": "code",
   "execution_count": null,
   "metadata": {},
   "outputs": [],
   "source": [
    "def an_outer_function():\n",
    "    def an_inner_function():\n",
    "        print(\"This must be called to be executed\")\n",
    "    an_inner_function()\n",
    "    an_inner_function()\n",
    "    an_inner_function()\n",
    "\n",
    "\n",
    "if __name__ == '__main__':\n",
    "    an_outer_function()\n",
    "    #an_inner_function() #Calling an inner function will throw an exception"
   ]
  },
  {
   "cell_type": "code",
   "execution_count": null,
   "metadata": {},
   "outputs": [],
   "source": [
    "message = \"Global variable\"\n",
    "\n",
    "def an_outer_function():\n",
    "    message = \"Outer Function\"\n",
    "    def an_inner_function(whatever):\n",
    "        print(whatever)\n",
    "        message = \"Inner Function\"\n",
    "        print(message)\n",
    "    an_inner_function(message)    \n",
    "    print(message)\n",
    "\n",
    "if __name__ == '__main__':\n",
    "    an_outer_function()\n",
    "    print(message)\n",
    "    "
   ]
  },
  {
   "source": [
    "## Non Local Variable\n",
    " * A variable inside an inner function as nonlocal\n",
    " * Scope is extended beyond the inner function"
   ],
   "cell_type": "markdown",
   "metadata": {}
  },
  {
   "cell_type": "code",
   "execution_count": null,
   "metadata": {},
   "outputs": [],
   "source": [
    "def an_outer_function():\n",
    "    message = \"Outer Function\"\n",
    "    def an_inner_function():\n",
    "        nonlocal message \n",
    "        message = \"Inner Function\"\n",
    "        print(message)\n",
    "    an_inner_function()    \n",
    "    print(message)\n",
    "\n",
    "if __name__ == '__main__':\n",
    "    message = \"In main\"\n",
    "    an_outer_function()\n",
    "    print(message)\n",
    "    "
   ]
  },
  {
   "source": [
    "## Closures\n",
    "* Binding data to a function without actually passing them\n",
    "* Must be in a nested function\n",
    "* Why use it\n",
    "    * Reduce use of global variables\n",
    "    * Data hiding\n",
    "    * Efficient way\n"
   ],
   "cell_type": "markdown",
   "metadata": {}
  },
  {
   "cell_type": "code",
   "execution_count": null,
   "metadata": {},
   "outputs": [],
   "source": [
    "def an_outer_function():\n",
    "    message = \"Outer Function\"\n",
    "    def an_inner_function():\n",
    "        print(f'Inner function : {message}')\n",
    "    an_inner_function()    \n",
    "    print(message)\n",
    "\n",
    "if __name__ == '__main__':\n",
    "    an_outer_function()\n",
    "  "
   ]
  },
  {
   "cell_type": "code",
   "execution_count": null,
   "metadata": {},
   "outputs": [],
   "source": [
    "globalVariable = \"Hi\"\n",
    "\n",
    "def an_outer_function():\n",
    "    outerVariable = \"Outer Function\"\n",
    "    def an_inner_function():\n",
    "        innerVariable = \"Inner Function\"    \n",
    "        return globalVariable+ \" \" + innerVariable + \" \" + outerVariable \n",
    "    \n",
    "    # print(innerVariable) # throws exception\n",
    "    return an_inner_function()    \n",
    "    \n",
    "\n",
    "if __name__ == '__main__':\n",
    "    print(globalVariable)\n",
    "    print(an_outer_function())\n",
    "    print(globalVariable)\n",
    "    "
   ]
  },
  {
   "source": [
    "## Function Decorators\n",
    "* Functions can be passed as an argument\n",
    "* Functions that take `functions` as argument are called higher order functions. \n",
    "* It allows programmers to modify the behaviour of teh function\n",
    "* \n",
    "\n"
   ],
   "cell_type": "markdown",
   "metadata": {}
  },
  {
   "cell_type": "code",
   "execution_count": null,
   "id": "rational-circle",
   "metadata": {
    "tags": []
   },
   "outputs": [],
   "source": [
    "# this is passing a function call, func\n",
    "def a_decorator(func):\n",
    "    def wrapper():\n",
    "        print(\"Do something before the function call.\")\n",
    "        func()  # call the function!\n",
    "        print(\"Do something after the function call.\")\n",
    "    return wrapper\n",
    "\n",
    "\n",
    "def a_function():\n",
    "    print(\"Hello, World!\")\n",
    "\n",
    "def b_function():\n",
    "    print(\"Au revoir!\")\n",
    "\n",
    "if __name__ == '__main__':\n",
    "    # send a_function to the decorator, save in say_hello function\n",
    "    say_hello = a_decorator(a_function)\n",
    "    say_hello()\n",
    "\n",
    "    say_goodbye = a_decorator(b_function)\n",
    "    say_goodbye()   \n"
   ]
  },
  {
   "cell_type": "code",
   "execution_count": 29,
   "metadata": {},
   "outputs": [
    {
     "output_type": "stream",
     "name": "stdout",
     "text": [
      "Security Check passed: Getting data for user x1\nSecurity Check passed: Saving data for user x1\n"
     ]
    }
   ],
   "source": [
    "# this is passing a function call, func\n",
    "def read_only(func):\n",
    "    def check_permission(userId): #Notice the parameter is same as getData method.\n",
    "        if(userId != 'x1'): \n",
    "            print('Dont have permission')\n",
    "            return False            \n",
    "        return func(userId)\n",
    "    return check_permission\n",
    "\n",
    "def can_write(func):\n",
    "    def check_permission(userId):\n",
    "        if(userId != 'x1'): \n",
    "            print('Dont have permission')\n",
    "            return False            \n",
    "        return func(userId)\n",
    "    return check_permission\n",
    "\n",
    "@read_only\n",
    "def getData(userId):\n",
    "    print(f'Security Check passed: Getting data for user {userId}')\n",
    "\n",
    "@can_write\n",
    "def writeData(userId):\n",
    "    getData(userId)\n",
    "    print(f'Security Check passed: Saving data for user {userId}')\n",
    "\n",
    "if __name__ == '__main__':\n",
    "    #getData('x1')\n",
    "    #getData('x2')\n",
    "    writeData('x1')\n"
   ]
  },
  {
   "source": [
    "## Testing\n",
    "* Manual Testing\n",
    "    * Manually providing the inputs to the program\n",
    "    * Inefficient\n",
    "* Automated Testing: Unit Testing\n",
    "    * You write code to test your program\n",
    "    * Writing Unit testing is part of coding\n",
    "    * Write code in small units to ensure it is easily tested\n",
    "    * Test for invalid inputs, edge cases, valid input\n",
    "    * Once you have many of the cases, you have a good coverage\n",
    "\n",
    "\n",
    "* https://code.visualstudio.com/docs/python/testing\n",
    "\n"
   ],
   "cell_type": "markdown",
   "metadata": {}
  },
  {
   "source": [
    "## Assignments:\n",
    "\n",
    "## Topic 1: Functions: Default Values\n",
    "## Topic 2: Inner Functions\n",
    "\n"
   ],
   "cell_type": "markdown",
   "metadata": {}
  },
  {
   "source": [
    "---\n",
    "\n",
    "## Classwork (Group)\n",
    "\n",
    "* Calculate federal income tax based on the income brackets\n",
    "    * https://taxfoundation.org/2020-tax-brackets/\n",
    "    * To keep it simple, only calculate for 10%, 12% and 22% for Single & Married Individuals fiing Joint\n",
    "    * You should accept the income from the user.\n",
    "    * Create two inner functions:\n",
    "        * For Single Status\n",
    "        * For Married Status\n",
    "    * The Outer function takes the values form both the inner function and returns the value.\n",
    "    * Display the income tax to be paid for both Single & Married individuals. \n",
    "    * Handle Exceptions\n",
    "\n"
   ],
   "cell_type": "markdown",
   "metadata": {}
  },
  {
   "source": [],
   "cell_type": "markdown",
   "metadata": {}
  },
  {
   "cell_type": "code",
   "execution_count": null,
   "metadata": {},
   "outputs": [],
   "source": [
    "def calculate_tax(income, status):\n",
    "    if(income <= 9875 and status  =='single') or (income <= 19750 and status == 'married'):\n",
    "        return 0.1\n",
    "    elif (9876 < income <= 40125 and status  =='single') or (19751<= income <= 80250 and status == 'married'): \n",
    "        return 0.12\n",
    "    else :\n",
    "        return 0.22\n",
    "\n",
    "\n",
    "if __name__ == '__main__':\n",
    "    income = int(input('Income Please, Enter -1 to exit '))\n",
    "    tax_amount = income * calculate_tax(income, 'single')    \n",
    "    print(f'Your tax amount is : {tax_amount}')"
   ]
  }
 ],
 "metadata": {
  "kernelspec": {
   "display_name": "Python 3",
   "language": "python",
   "name": "python3"
  },
  "language_info": {
   "codemirror_mode": {
    "name": "ipython",
    "version": 3
   },
   "file_extension": ".py",
   "mimetype": "text/x-python",
   "name": "python",
   "nbconvert_exporter": "python",
   "pygments_lexer": "ipython3",
   "version": "3.9.1-final"
  }
 },
 "nbformat": 4,
 "nbformat_minor": 5
}