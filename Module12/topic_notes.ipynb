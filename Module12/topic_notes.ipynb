{
 "cells": [
  {
   "source": [
    "## Object Oriented Programming\n",
    "\n",
    "* In OOP, the usage patterns for interacting with an object can be divided into two basic categories\n",
    "    * Invocation\n",
    "        * Interacting with an object by invoking its methods\n",
    "        * Combined with polymorphism, so that a given method may run different code depending on the type of the object.\n",
    "    * Inspection\n",
    "        * Ablitity for external code to examine the type or properties of that object, and make decision on how to treat that object based on that information.\n",
    "        \n"
   ],
   "cell_type": "markdown",
   "metadata": {}
  },
  {
   "source": [
    "### Pillars: \n",
    "* Encapsulation:\n",
    "Object Oriented Programming (OOP) is in essence is defining members and methods, then creating objects to utilize those members and methods. It also includes the idea of restricting access. This makes code cleaner and more maintainable. Modules and namespaces in Python were useful ways to organize code, classes and OOP takes that organization one step further. Although Python does not have the keyword private you may see in other languages to restrict access, it uses convention and name mangling. \n",
    "\n",
    "* Inheritance:\n",
    "    * Inheritance is a way of one class to derive the properties from another class. \n",
    "    * It provides reusability of a code. \n",
    "    * Modify the behaviour defined in other class\n",
    "    * Base Class:\n",
    "        * The class whose members are inherited is called the base class\n",
    "    * Derived Class:\n",
    "        * The class that inherits those membes is called the derived class\n",
    "\n",
    "* Polymorphism\n",
    "    * Simply stated, includes having \"many forms\". \n",
    "    * In many languages, Polymorphism can occur with multiple constructors. \n",
    "    * With Python's powerful and succinct constructors and the use of default values, you do not use many constructors. However, derived class can have methods of the same name as in the base that override the base class methods.\n",
    "\n",
    "* Abstraction\n",
    "    * Abstract classes allow you to create blueprint of a class.\n",
    "    * Minimal set of methods that establishes the characteristic behaviour of the type. \n",
    "    * Inheriting class should implement the abstract methods\n",
    "    * Abstract class cannot be instantiated\n"
   ],
   "cell_type": "markdown",
   "metadata": {}
  },
  {
   "source": [
    "## Abstract Base Class\n",
    "* Module abc, serves as an ABC support framework. \n",
    "* Defines the metaclass and @abstractmethod \n",
    "* @abstractmethod is used to declare abstract methods. \n",
    "* A class containing at least one method declared with this decorator that hasn't been overriden yet cannot be instantiated. "
   ],
   "cell_type": "markdown",
   "metadata": {}
  },
  {
   "cell_type": "code",
   "execution_count": 10,
   "metadata": {},
   "outputs": [
    {
     "output_type": "stream",
     "name": "stdout",
     "text": [
      "4\ndisplay Square\n6\n10\ndisplay rectangle\n"
     ]
    }
   ],
   "source": [
    "from abc import ABC, abstractmethod\n",
    "class Shape(ABC):\n",
    "    @abstractmethod\n",
    "    def area(self): \n",
    "        pass\n",
    "    @abstractmethod\n",
    "    def display(self):\n",
    "        pass\n",
    "\n",
    "class Square(Shape):\n",
    "     def area(self, length):\n",
    "         return length * 2\n",
    "\n",
    "     def display(self):\n",
    "        return \"display Square\"   \n",
    "\n",
    "class Rectangle(Shape):\n",
    "    def area(self, length, width):\n",
    "        return length * width\n",
    "    def calculatePermiter(self, length, width):\n",
    "        return 2 *(length + width)    \n",
    "    def display(self):\n",
    "        return \"display rectangle\"   \n",
    "    \n",
    "\n",
    "#aShape = Shape() # Raises TypeError\n",
    "\n",
    "aSquare = Square()\n",
    "print(aSquare.area(2)) \n",
    "print(aSquare.display()) \n",
    "\n",
    "aRectangle = Rectangle() # Raises TypeError\n",
    "print(aRectangle.area(2, 3))\n",
    "print(aRectangle.calculatePermiter(2, 3))\n",
    "print(aRectangle.display())"
   ]
  },
  {
   "source": [
    "## Custom Exception\n",
    "* Derived from the built-in Exception class\n",
    "* e.g. In Rectangle class, you want to ensure the length and width are positive values.\n",
    "* check the examples in classtesting folder\n"
   ],
   "cell_type": "markdown",
   "metadata": {}
  },
  {
   "source": [
    "## Unit Testing Abstract & Derived Class\n",
    "* You do not make an instance of Abstract class\n",
    "* You can test just the derived class. "
   ],
   "cell_type": "markdown",
   "metadata": {}
  },
  {
   "source": [
    "## CSV File Data\n",
    "\n",
    "### CSV Library\n",
    "* Built-in library . Needs to be imported when you want to use it.\n"
   ],
   "cell_type": "markdown",
   "metadata": {}
  },
  {
   "source": [
    "---\n",
    "\n",
    "## Classwork (Group)\n",
    "### Remove header from CSV files\n",
    "* From the folder csv in this modules, \n",
    "1. For all the csv files in the \"csv\" folder\n",
    "2. Read the content of the files\n",
    "3. Write the content and omit the first line(header) to a new file.\n",
    "\n",
    "* You will need to import csv, os\n",
    "Few important methods:\n",
    "* os.makedirs : to create a new directory\n",
    "* os.listdir: to list each file in the directory\n",
    "\n",
    "\n",
    "\n",
    " "
   ],
   "cell_type": "markdown",
   "metadata": {}
  }
 ],
 "metadata": {
  "kernelspec": {
   "display_name": "Python 3",
   "language": "python",
   "name": "python3"
  },
  "language_info": {
   "codemirror_mode": {
    "name": "ipython",
    "version": 3
   },
   "file_extension": ".py",
   "mimetype": "text/x-python",
   "name": "python",
   "nbconvert_exporter": "python",
   "pygments_lexer": "ipython3",
   "version": "3.9.1-final"
  }
 },
 "nbformat": 4,
 "nbformat_minor": 5
}