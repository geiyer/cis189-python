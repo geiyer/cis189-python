{
 "cells": [
  {
   "source": [
    "## Object Oriented Programming\n",
    "\n",
    "* Way to structure the program by bundling related properties and behaviors into individual objects\n",
    "\n",
    "* An object contain data; data in the form of field(attributes or properties).\n",
    "\n",
    "* Object also contain code (procedures or methods) that are used to manipulate the data. \n",
    "\n",
    "\n",
    "\n",
    "### Objects & Classes\n",
    "\n",
    "* Classes: \n",
    "    * Provides means to bundle data and functionality \n",
    "     * Blueprint \n",
    "     * Contain fields and methods\n",
    "* Objects: Instances of classes\n",
    "    \n",
    "\n",
    "### Example:\n",
    "#### Class: Person\n",
    "* A Person has some properties or attributes\n",
    "    * ID\n",
    "    * Name\n",
    "    * Gender\n",
    "    * Eye Color\n",
    "    * Height\n",
    "    * Weight \n",
    "* A Person performs certain actions\n",
    "    * Walk\n",
    "    * Sleep\n",
    "    * Eat\n",
    "#### Object:\n",
    "\n",
    "    * ID = 223\n",
    "    * Name = 'Jill Curry'\n",
    "    * Eye Color = 'blue'\n",
    "    * Gender = 'F'\n",
    "    * Height = 5.6\n",
    "    * Weight = 135"
   ],
   "cell_type": "markdown",
   "metadata": {}
  },
  {
   "source": [
    "### Class\n",
    "```Python\n",
    "class Person:\n",
    "    <statement-1>\n",
    "    .\n",
    "    .\n",
    "    .\n",
    "    <statement-N>\n",
    "```\n",
    "* Class definitions, like function definitions (def statements) must be executed before they have any effect.\n",
    "\n",
    "* In practice, the statements inside a class definition will usually be function definitions, but other statements are allowed\n",
    "\n",
    "\n",
    "\n",
    "\n"
   ],
   "cell_type": "markdown",
   "metadata": {}
  },
  {
   "cell_type": "code",
   "execution_count": null,
   "metadata": {},
   "outputs": [],
   "source": [
    "class SimpleExample:\n",
    "    \"\"\"A simple example class\"\"\"\n",
    "    max = 256\n",
    "\n",
    "    def message(self):\n",
    "        return 'Hello, Classes!'\n",
    "\n",
    " # Driver     \n",
    "simpleObj = SimpleExample() # make a class object\n",
    "print(simpleObj.max)        # access class definition\n",
    "print(simpleObj.message())  # call class method\n",
    "del simpleObj               # clean up objects by deletion \n",
    "       "
   ]
  },
  {
   "source": [
    "* In the above example, The Driver section makes an instance of class, access the max with dot notation, calls the method with dot notation. You call class methods methods when before you called them function, when they were not part of class."
   ],
   "cell_type": "markdown",
   "metadata": {}
  },
  {
   "source": [
    "### Pillars\n",
    "* Encapsulation:\n",
    "Object Oriented Programming (OOP) is in essence is defining members and methods, then creating objects to utilize those members and methods. It also includes the idea of restricting access. This makes code cleaner and more maintainable. Modules and namespaces in Python were useful ways to organize code, classes and OOP takes that organization one step further. Although Python does not have the keyword private you may see in other languages to restrict access, it uses convention and name mangling. \n",
    "\n",
    "* Abstraction\n",
    "* Polymorphism\n",
    "\n",
    "* Inheritance"
   ],
   "cell_type": "markdown",
   "metadata": {}
  },
  {
   "cell_type": "code",
   "execution_count": null,
   "metadata": {},
   "outputs": [],
   "source": [
    "class Employee:\n",
    "    '''Employee Class '''\n",
    "        # Constructor\n",
    "    def __init__(self, lname, fname):\n",
    "         self.last_name = lname\n",
    "         self.first_name = fname\n",
    "\n",
    "    def set_last_name(self, lname):\n",
    "         self.last_name = lname\n",
    "\n",
    "    def set_first_name(self, fname):\n",
    "         self.first_name = fname\n",
    "\n",
    "    def display(self):\n",
    "         return str(self.last_name) + \", \" + str(self.first_name)\n",
    "\n",
    "# Driver\n",
    "emp = Employee('Curry', 'Jill')   # call the construtor, needs to have a first and last name in parameter\n",
    "emp.set_last_name('Peterson')\n",
    "print(emp.display())                # display returns a str, so print the information\n",
    "del emp                             # clean up! "
   ]
  },
  {
   "source": [
    "* Class instantiation uses function notation. \n",
    "* __init__ method:\n",
    "    * called after the instance is created\n",
    "    * no value may be returned in the init method\n",
    "\n",
    "* __repr__ method:\n",
    "    * Called by the repr() built-in function to compute the “official” string representation of an object. \n",
    "    * This is typically used for debugging, so it is important that the representation is information-rich and unambiguous.\n",
    "\n",
    "* __str__ method:\n",
    "    * Called by str(object) and the built-in functions format() and print() to compute the “informal” or nicely printable string representation of an object. The return value must be a string object. \n",
    "\n",
    "              \n"
   ],
   "cell_type": "markdown",
   "metadata": {}
  },
  {
   "cell_type": "code",
   "execution_count": null,
   "metadata": {},
   "outputs": [],
   "source": [
    "class Employee:\n",
    "    '''Employee Class '''\n",
    "        # Constructor\n",
    "    def __init__(self, lname, fname):\n",
    "         self.last_name = lname\n",
    "         self.first_name = fname\n",
    "    def __repr__(self):\n",
    "        return self.first_name +\"  \" + self.last_name\n",
    "    def __str__(self):\n",
    "        return \"First Name is: \" + self.first_name    \n",
    "    def display(self):\n",
    "         return str(self.last_name) + \", \" + str(self.first_name)\n",
    "\n",
    "# Driver\n",
    "emp = Employee('Curry', 'Jill')   # call the construtor, needs to have a first and last name in parameter\n",
    "print(str(emp)) # str calls teh __str__ method\n",
    "#print(emp.display())                # display returns a str, so print the information\n",
    "print(repr(emp))\n",
    "del emp                             # clean up! "
   ]
  },
  {
   "cell_type": "code",
   "execution_count": 9,
   "metadata": {},
   "outputs": [
    {
     "output_type": "stream",
     "name": "stdout",
     "text": [
      "First Name is: Jill\n"
     ]
    }
   ],
   "source": [
    "class Employee:\n",
    "    '''Employee Class '''\n",
    "        # Constructor\n",
    "    def __init__(self, lname, fname):\n",
    "         self.last_name = lname\n",
    "         self.first_name = fname\n",
    "    def __repr__(self):\n",
    "        return self.first_name +\"  \" + self.last_name\n",
    "    def __str__(self):\n",
    "        return \"First Name is: \" + self.first_name    \n",
    "    def display(self):\n",
    "         return str(self.last_name) + \", \" + str(self.first_name)\n",
    "\n",
    "# Driver\n",
    "emp = Employee('Curry', 'Jill')   # call the construtor, needs to have a first and last name in parameter\n",
    "print(str(emp)) # str calls teh __str__ method\n",
    "print(emp.display())                # display returns a str, so print the information\n",
    "print(repr(emp))\n",
    "del emp      "
   ]
  },
  {
   "source": [
    "## Name Mangling\n",
    "* Class attributes are not private. In some OOP languages, you mark the class attributes private, meaning they can only be accessed within the class. By default, Python attributes are public, meaning they can be seen by all other files as well. \n",
    "\n",
    "* “Private” instance variables that cannot be accessed except from inside an object don’t exist in Python. However, there is a convention that is followed by most Python code: a name prefixed with an underscore (e.g. _spam) should be treated as a non-public part of the API (whether it is a function, a method or a data member). It should be considered an implementation detail and subject to change without notice.\n",
    "\n",
    "* Since there is a valid use-case for class-private members (namely to avoid name clashes of names with names defined by subclasses), there is limited support for such a mechanism, called name mangling. \n",
    "\n",
    "* Any identifier of the form __spam (at least two leading underscores, at most one trailing underscore) is textually replaced with _classname__spam, where classname is the current class name with leading underscore(s) stripped. This mangling is done without regard to the syntactic position of the identifier, as long as it occurs within the definition of a class.\n",
    "\n",
    "\n",
    " \n"
   ],
   "cell_type": "markdown",
   "metadata": {}
  },
  {
   "source": [
    "## @property decorator\n",
    "\n",
    "* The main purpose of Property() function is to create property of a class.\n",
    "\n",
    "* You can define three methods for a property:\n",
    "\n",
    "    * A getter - to access the value of the attribute.\n",
    "    * A setter - to set the value of the attribute.\n",
    "    * A deleter - to delete the instance attribute.\n",
    "\n",
    "> Note: Check the example employee.py in the module\n",
    "\n",
    "\n",
    "\n",
    "\n"
   ],
   "cell_type": "markdown",
   "metadata": {}
  },
  {
   "source": [
    "## Unit Testing of Class\n",
    "* Check the example from folder classtesting\n",
    "\n",
    "### Python Module Import\n",
    " Python interpreter looks for an imported module in the following order:\n",
    "\n",
    "* built-in module (such as unittest, os, …)\n",
    "* directory containing the input script (or the current directory)\n",
    "* directories specified by the PYTHONPATH environment variable\n",
    "* installation-dependent default"
   ],
   "cell_type": "markdown",
   "metadata": {}
  },
  {
   "source": [
    "---\n",
    "\n",
    "## Classwork (Group)\n",
    "* Write an Customer class with the following data members, which are identified as required or optional in the constructor.\n",
    "    * customer_id - required: number\n",
    "    * last_name - required: string\n",
    "    * first_name - required: string\n",
    "    * phone_number - required: string\n",
    "    * state - optional: string\n",
    "\n",
    "* Methods:\n",
    "    * Constructor that sets all required items as listed above and uses appropriate default values for optional\n",
    "    * built-ins (str() and repr())\n",
    "\n",
    "* Driver:\n",
    "    * No Error Case: \n",
    "        * Create a Customer object customer1 with no error\n",
    "        * Call str on customer1\n",
    "    * Invalid Customer ID: \n",
    "        * Create a Customer object customer2 that should raise an exception with non-numeric customer id\n",
    "\n",
    " "
   ],
   "cell_type": "markdown",
   "metadata": {}
  },
  {
   "cell_type": "code",
   "execution_count": null,
   "metadata": {},
   "outputs": [],
   "source": []
  }
 ],
 "metadata": {
  "kernelspec": {
   "display_name": "Python 3",
   "language": "python",
   "name": "python3"
  },
  "language_info": {
   "codemirror_mode": {
    "name": "ipython",
    "version": 3
   },
   "file_extension": ".py",
   "mimetype": "text/x-python",
   "name": "python",
   "nbconvert_exporter": "python",
   "pygments_lexer": "ipython3",
   "version": "3.9.1-final"
  }
 },
 "nbformat": 4,
 "nbformat_minor": 5
}